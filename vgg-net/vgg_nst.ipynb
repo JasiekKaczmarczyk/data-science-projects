{
  "cells": [
    {
      "cell_type": "markdown",
      "metadata": {
        "id": "vq6GBETgHKTT"
      },
      "source": [
        "# Neural Style Transfer"
      ]
    },
    {
      "cell_type": "code",
      "execution_count": 1,
      "metadata": {
        "id": "QTM2hFiqHKTX"
      },
      "outputs": [],
      "source": [
        "import torch\n",
        "import torch.nn as nn\n",
        "import torch.optim as optim\n",
        "import torchvision.transforms as transforms\n",
        "import torchvision.models as models\n",
        "from torchvision.utils import save_image\n",
        "from PIL import Image\n",
        "\n",
        "import vgg_neural_style_transfer as nst"
      ]
    },
    {
      "cell_type": "markdown",
      "metadata": {
        "id": "hDXbkbFFHKTZ"
      },
      "source": [
        "#### Setting up device"
      ]
    },
    {
      "cell_type": "code",
      "execution_count": 2,
      "metadata": {
        "id": "lm4Df6lDHKTa"
      },
      "outputs": [],
      "source": [
        "device = torch.device(\"cuda\" if torch.cuda.is_available() else \"cpu\")"
      ]
    },
    {
      "cell_type": "markdown",
      "metadata": {
        "id": "UvTft1X4HKTc"
      },
      "source": [
        "#### Inspecting VGG19"
      ]
    },
    {
      "cell_type": "code",
      "execution_count": 3,
      "metadata": {
        "id": "sX3vC-OvHKTc",
        "outputId": "f1307441-0205-463c-bc6f-f6a9e27e79d6",
        "colab": {
          "base_uri": "https://localhost:8080/",
          "height": 764,
          "referenced_widgets": [
            "5ca7593178a94ec4ae9d5fd937bd5c64",
            "db09c158c2b14a9f952344f0387a89f2",
            "79c1fad501af472e819e6d3a6839ebe0",
            "430df5cc999446c39c5fe1a76a8bedc6",
            "48b3bba697b64eda9f3131047e1021c9",
            "f8f50e7b6fce4b89afcdcb2c21a5c9a3",
            "e454b93908854571ad0c3878a463801f",
            "d84f7d5e1e5d4ad78ac0b00ac6e89252",
            "16b5d125ac1f4b56a305a286219179c6",
            "95aba43c6610429e80af95d4a76c7f7e",
            "2473584dcd93424faf82778e2ddd192f"
          ]
        }
      },
      "outputs": [
        {
          "output_type": "stream",
          "name": "stderr",
          "text": [
            "Downloading: \"https://download.pytorch.org/models/vgg19-dcbb9e9d.pth\" to /root/.cache/torch/hub/checkpoints/vgg19-dcbb9e9d.pth\n"
          ]
        },
        {
          "output_type": "display_data",
          "data": {
            "text/plain": [
              "  0%|          | 0.00/548M [00:00<?, ?B/s]"
            ],
            "application/vnd.jupyter.widget-view+json": {
              "version_major": 2,
              "version_minor": 0,
              "model_id": "5ca7593178a94ec4ae9d5fd937bd5c64"
            }
          },
          "metadata": {}
        },
        {
          "output_type": "stream",
          "name": "stdout",
          "text": [
            "Sequential(\n",
            "  (0): Conv2d(3, 64, kernel_size=(3, 3), stride=(1, 1), padding=(1, 1))\n",
            "  (1): ReLU(inplace=True)\n",
            "  (2): Conv2d(64, 64, kernel_size=(3, 3), stride=(1, 1), padding=(1, 1))\n",
            "  (3): ReLU(inplace=True)\n",
            "  (4): MaxPool2d(kernel_size=2, stride=2, padding=0, dilation=1, ceil_mode=False)\n",
            "  (5): Conv2d(64, 128, kernel_size=(3, 3), stride=(1, 1), padding=(1, 1))\n",
            "  (6): ReLU(inplace=True)\n",
            "  (7): Conv2d(128, 128, kernel_size=(3, 3), stride=(1, 1), padding=(1, 1))\n",
            "  (8): ReLU(inplace=True)\n",
            "  (9): MaxPool2d(kernel_size=2, stride=2, padding=0, dilation=1, ceil_mode=False)\n",
            "  (10): Conv2d(128, 256, kernel_size=(3, 3), stride=(1, 1), padding=(1, 1))\n",
            "  (11): ReLU(inplace=True)\n",
            "  (12): Conv2d(256, 256, kernel_size=(3, 3), stride=(1, 1), padding=(1, 1))\n",
            "  (13): ReLU(inplace=True)\n",
            "  (14): Conv2d(256, 256, kernel_size=(3, 3), stride=(1, 1), padding=(1, 1))\n",
            "  (15): ReLU(inplace=True)\n",
            "  (16): Conv2d(256, 256, kernel_size=(3, 3), stride=(1, 1), padding=(1, 1))\n",
            "  (17): ReLU(inplace=True)\n",
            "  (18): MaxPool2d(kernel_size=2, stride=2, padding=0, dilation=1, ceil_mode=False)\n",
            "  (19): Conv2d(256, 512, kernel_size=(3, 3), stride=(1, 1), padding=(1, 1))\n",
            "  (20): ReLU(inplace=True)\n",
            "  (21): Conv2d(512, 512, kernel_size=(3, 3), stride=(1, 1), padding=(1, 1))\n",
            "  (22): ReLU(inplace=True)\n",
            "  (23): Conv2d(512, 512, kernel_size=(3, 3), stride=(1, 1), padding=(1, 1))\n",
            "  (24): ReLU(inplace=True)\n",
            "  (25): Conv2d(512, 512, kernel_size=(3, 3), stride=(1, 1), padding=(1, 1))\n",
            "  (26): ReLU(inplace=True)\n",
            "  (27): MaxPool2d(kernel_size=2, stride=2, padding=0, dilation=1, ceil_mode=False)\n",
            "  (28): Conv2d(512, 512, kernel_size=(3, 3), stride=(1, 1), padding=(1, 1))\n",
            "  (29): ReLU(inplace=True)\n",
            "  (30): Conv2d(512, 512, kernel_size=(3, 3), stride=(1, 1), padding=(1, 1))\n",
            "  (31): ReLU(inplace=True)\n",
            "  (32): Conv2d(512, 512, kernel_size=(3, 3), stride=(1, 1), padding=(1, 1))\n",
            "  (33): ReLU(inplace=True)\n",
            "  (34): Conv2d(512, 512, kernel_size=(3, 3), stride=(1, 1), padding=(1, 1))\n",
            "  (35): ReLU(inplace=True)\n",
            "  (36): MaxPool2d(kernel_size=2, stride=2, padding=0, dilation=1, ceil_mode=False)\n",
            ")\n"
          ]
        }
      ],
      "source": [
        "model = models.vgg19(pretrained=True).features\n",
        "\n",
        "print(model)"
      ]
    },
    {
      "cell_type": "markdown",
      "metadata": {
        "id": "braSId3WHKTd"
      },
      "source": [
        "#### Train loop"
      ]
    },
    {
      "cell_type": "code",
      "execution_count": 4,
      "metadata": {
        "id": "h_FdSLgLHKTf"
      },
      "outputs": [],
      "source": [
        "def calculate_losses(original_features: torch.Tensor, style_features: torch.Tensor, generated_features: torch.Tensor):\n",
        "    # loss functions\n",
        "        original_loss = 0\n",
        "        style_loss = 0\n",
        "\n",
        "        # iterating through each feature layer\n",
        "        for original_feature, style_feature, generated_feature in zip(original_features, style_features, generated_features):\n",
        "\n",
        "            # shape of images for certain feature layer\n",
        "            _, channel, height, width = generated_feature.shape\n",
        "\n",
        "            # gram matrices for generated and style\n",
        "            generated_gram_matrix = torch.mm(\n",
        "                generated_feature.reshape(channel, height*width),\n",
        "                generated_feature.reshape(channel, height*width).t()\n",
        "                )\n",
        "\n",
        "            style_gram_matrix = torch.mm(\n",
        "                style_feature.reshape(channel, height*width),\n",
        "                style_feature.reshape(channel, height*width).t()\n",
        "                )\n",
        "\n",
        "            # mse\n",
        "            original_loss += torch.mean((generated_feature-original_feature)**2)\n",
        "            style_loss += torch.mean((generated_gram_matrix-style_gram_matrix)**2)\n",
        "\n",
        "        return original_loss, style_loss\n",
        "\n",
        "\n",
        "def train(model: nn.Module, original_image: torch.Tensor, style_image: torch.Tensor, generated_image: torch.Tensor, epochs: int, learning_rate: float, alpha: float, beta: float):\n",
        "    \"\"\"\n",
        "    Training loop\n",
        "    \"\"\"\n",
        "\n",
        "    # setting up optimizer to optimize generated_image\n",
        "    optimizer = optim.Adam([generated_image], lr=learning_rate)\n",
        "\n",
        "    for step in range(epochs):\n",
        "        # grabbing features in each feature layer for each image\n",
        "        original_features = model(original_image)\n",
        "        style_features = model(style_image)\n",
        "        generated_features = model(generated_image)\n",
        "\n",
        "        # calculate losses\n",
        "        original_loss, style_loss = calculate_losses(original_features, style_features, generated_features)\n",
        "\n",
        "        # counting total loss\n",
        "        total_loss = alpha * original_loss + beta * style_loss\n",
        "\n",
        "\n",
        "        # backpropagation and gradient descent\n",
        "        optimizer.zero_grad()\n",
        "        total_loss.backward()\n",
        "        optimizer.step()\n",
        "\n",
        "        # printing loss and saving image\n",
        "        if step % 500 == 0:\n",
        "            print(f\"Step: {step} Loss: {total_loss}\")\n",
        "            save_image(generated_image, f\"images/generated_step{step}.jpg\")"
      ]
    },
    {
      "cell_type": "markdown",
      "metadata": {
        "id": "FTQpG0irHKTg"
      },
      "source": [
        "#### Model and hyperparameters"
      ]
    },
    {
      "cell_type": "code",
      "execution_count": 5,
      "metadata": {
        "id": "h8J8bgtIHKTg"
      },
      "outputs": [],
      "source": [
        "feature_layers = ['0', '5', '10', '19', '28']\n",
        "\n",
        "model = nst.VGG_NST(feature_layers).to(device)\n",
        "\n",
        "image_size = 512\n",
        "learning_rate = 0.001\n",
        "epochs = 6000\n",
        "alpha = 1\n",
        "beta = 0.05"
      ]
    },
    {
      "cell_type": "markdown",
      "metadata": {
        "id": "0LSGPCzjHKTh"
      },
      "source": [
        "#### Image loading function"
      ]
    },
    {
      "cell_type": "code",
      "execution_count": 6,
      "metadata": {
        "id": "K8Q5CTmhHKTk"
      },
      "outputs": [],
      "source": [
        "image_transforms = transforms.Compose([\n",
        "    transforms.Resize((image_size, image_size)),\n",
        "    transforms.ToTensor()\n",
        "    # transforms.Normalize(mean=[0.485, 0.456, 0.406], std=[0.229, 0.224, 0.225])\n",
        "])\n",
        "\n",
        "def load_image(image_name, image_transform):\n",
        "    image = Image.open(image_name)\n",
        "    image = image_transform(image).unsqueeze(0)\n",
        "\n",
        "    return image.to(device)"
      ]
    },
    {
      "cell_type": "markdown",
      "metadata": {
        "id": "wr6SHigtHKTl"
      },
      "source": [
        "#### Loading images"
      ]
    },
    {
      "cell_type": "code",
      "execution_count": 9,
      "metadata": {
        "id": "6jqhC4oxHKTl"
      },
      "outputs": [],
      "source": [
        "original_image = load_image(\"images/original.jpg\", image_transforms)\n",
        "style_image = load_image(\"images/style_image.jpg\", image_transforms)\n",
        "\n",
        "generated_image = original_image.clone().requires_grad_(True)"
      ]
    },
    {
      "cell_type": "markdown",
      "metadata": {
        "id": "lPtPghpPHKTl"
      },
      "source": [
        "#### Training"
      ]
    },
    {
      "cell_type": "code",
      "execution_count": 10,
      "metadata": {
        "id": "3a7gS46vHKTm",
        "outputId": "a18bbdcf-889b-48b5-c4ff-b32e30afe307",
        "colab": {
          "base_uri": "https://localhost:8080/"
        }
      },
      "outputs": [
        {
          "output_type": "stream",
          "name": "stdout",
          "text": [
            "Step: 0 Loss: 7220218.5\n",
            "Step: 500 Loss: 171552.453125\n",
            "Step: 1000 Loss: 46878.25390625\n",
            "Step: 1500 Loss: 31791.6015625\n",
            "Step: 2000 Loss: 24581.6640625\n",
            "Step: 2500 Loss: 19722.021484375\n",
            "Step: 3000 Loss: 16012.0947265625\n",
            "Step: 3500 Loss: 13071.044921875\n",
            "Step: 4000 Loss: 10630.8408203125\n",
            "Step: 4500 Loss: 8913.69140625\n",
            "Step: 5000 Loss: 7306.08544921875\n",
            "Step: 5500 Loss: 6225.35693359375\n"
          ]
        }
      ],
      "source": [
        "train(model, original_image, style_image, generated_image, epochs, learning_rate, alpha, beta)"
      ]
    }
  ],
  "metadata": {
    "interpreter": {
      "hash": "96959798ab2ac4a3a0205a99ed6dcf819e735c1fab48404ed0b1d398803c3294"
    },
    "kernelspec": {
      "display_name": "Python 3.9.12 ('pytorch')",
      "language": "python",
      "name": "python3"
    },
    "language_info": {
      "codemirror_mode": {
        "name": "ipython",
        "version": 3
      },
      "file_extension": ".py",
      "mimetype": "text/x-python",
      "name": "python",
      "nbconvert_exporter": "python",
      "pygments_lexer": "ipython3",
      "version": "3.9.12"
    },
    "orig_nbformat": 4,
    "colab": {
      "name": "vgg_nst.ipynb",
      "provenance": []
    },
    "accelerator": "GPU",
    "widgets": {
      "application/vnd.jupyter.widget-state+json": {
        "5ca7593178a94ec4ae9d5fd937bd5c64": {
          "model_module": "@jupyter-widgets/controls",
          "model_name": "HBoxModel",
          "model_module_version": "1.5.0",
          "state": {
            "_dom_classes": [],
            "_model_module": "@jupyter-widgets/controls",
            "_model_module_version": "1.5.0",
            "_model_name": "HBoxModel",
            "_view_count": null,
            "_view_module": "@jupyter-widgets/controls",
            "_view_module_version": "1.5.0",
            "_view_name": "HBoxView",
            "box_style": "",
            "children": [
              "IPY_MODEL_db09c158c2b14a9f952344f0387a89f2",
              "IPY_MODEL_79c1fad501af472e819e6d3a6839ebe0",
              "IPY_MODEL_430df5cc999446c39c5fe1a76a8bedc6"
            ],
            "layout": "IPY_MODEL_48b3bba697b64eda9f3131047e1021c9"
          }
        },
        "db09c158c2b14a9f952344f0387a89f2": {
          "model_module": "@jupyter-widgets/controls",
          "model_name": "HTMLModel",
          "model_module_version": "1.5.0",
          "state": {
            "_dom_classes": [],
            "_model_module": "@jupyter-widgets/controls",
            "_model_module_version": "1.5.0",
            "_model_name": "HTMLModel",
            "_view_count": null,
            "_view_module": "@jupyter-widgets/controls",
            "_view_module_version": "1.5.0",
            "_view_name": "HTMLView",
            "description": "",
            "description_tooltip": null,
            "layout": "IPY_MODEL_f8f50e7b6fce4b89afcdcb2c21a5c9a3",
            "placeholder": "​",
            "style": "IPY_MODEL_e454b93908854571ad0c3878a463801f",
            "value": "100%"
          }
        },
        "79c1fad501af472e819e6d3a6839ebe0": {
          "model_module": "@jupyter-widgets/controls",
          "model_name": "FloatProgressModel",
          "model_module_version": "1.5.0",
          "state": {
            "_dom_classes": [],
            "_model_module": "@jupyter-widgets/controls",
            "_model_module_version": "1.5.0",
            "_model_name": "FloatProgressModel",
            "_view_count": null,
            "_view_module": "@jupyter-widgets/controls",
            "_view_module_version": "1.5.0",
            "_view_name": "ProgressView",
            "bar_style": "success",
            "description": "",
            "description_tooltip": null,
            "layout": "IPY_MODEL_d84f7d5e1e5d4ad78ac0b00ac6e89252",
            "max": 574673361,
            "min": 0,
            "orientation": "horizontal",
            "style": "IPY_MODEL_16b5d125ac1f4b56a305a286219179c6",
            "value": 574673361
          }
        },
        "430df5cc999446c39c5fe1a76a8bedc6": {
          "model_module": "@jupyter-widgets/controls",
          "model_name": "HTMLModel",
          "model_module_version": "1.5.0",
          "state": {
            "_dom_classes": [],
            "_model_module": "@jupyter-widgets/controls",
            "_model_module_version": "1.5.0",
            "_model_name": "HTMLModel",
            "_view_count": null,
            "_view_module": "@jupyter-widgets/controls",
            "_view_module_version": "1.5.0",
            "_view_name": "HTMLView",
            "description": "",
            "description_tooltip": null,
            "layout": "IPY_MODEL_95aba43c6610429e80af95d4a76c7f7e",
            "placeholder": "​",
            "style": "IPY_MODEL_2473584dcd93424faf82778e2ddd192f",
            "value": " 548M/548M [00:08&lt;00:00, 75.2MB/s]"
          }
        },
        "48b3bba697b64eda9f3131047e1021c9": {
          "model_module": "@jupyter-widgets/base",
          "model_name": "LayoutModel",
          "model_module_version": "1.2.0",
          "state": {
            "_model_module": "@jupyter-widgets/base",
            "_model_module_version": "1.2.0",
            "_model_name": "LayoutModel",
            "_view_count": null,
            "_view_module": "@jupyter-widgets/base",
            "_view_module_version": "1.2.0",
            "_view_name": "LayoutView",
            "align_content": null,
            "align_items": null,
            "align_self": null,
            "border": null,
            "bottom": null,
            "display": null,
            "flex": null,
            "flex_flow": null,
            "grid_area": null,
            "grid_auto_columns": null,
            "grid_auto_flow": null,
            "grid_auto_rows": null,
            "grid_column": null,
            "grid_gap": null,
            "grid_row": null,
            "grid_template_areas": null,
            "grid_template_columns": null,
            "grid_template_rows": null,
            "height": null,
            "justify_content": null,
            "justify_items": null,
            "left": null,
            "margin": null,
            "max_height": null,
            "max_width": null,
            "min_height": null,
            "min_width": null,
            "object_fit": null,
            "object_position": null,
            "order": null,
            "overflow": null,
            "overflow_x": null,
            "overflow_y": null,
            "padding": null,
            "right": null,
            "top": null,
            "visibility": null,
            "width": null
          }
        },
        "f8f50e7b6fce4b89afcdcb2c21a5c9a3": {
          "model_module": "@jupyter-widgets/base",
          "model_name": "LayoutModel",
          "model_module_version": "1.2.0",
          "state": {
            "_model_module": "@jupyter-widgets/base",
            "_model_module_version": "1.2.0",
            "_model_name": "LayoutModel",
            "_view_count": null,
            "_view_module": "@jupyter-widgets/base",
            "_view_module_version": "1.2.0",
            "_view_name": "LayoutView",
            "align_content": null,
            "align_items": null,
            "align_self": null,
            "border": null,
            "bottom": null,
            "display": null,
            "flex": null,
            "flex_flow": null,
            "grid_area": null,
            "grid_auto_columns": null,
            "grid_auto_flow": null,
            "grid_auto_rows": null,
            "grid_column": null,
            "grid_gap": null,
            "grid_row": null,
            "grid_template_areas": null,
            "grid_template_columns": null,
            "grid_template_rows": null,
            "height": null,
            "justify_content": null,
            "justify_items": null,
            "left": null,
            "margin": null,
            "max_height": null,
            "max_width": null,
            "min_height": null,
            "min_width": null,
            "object_fit": null,
            "object_position": null,
            "order": null,
            "overflow": null,
            "overflow_x": null,
            "overflow_y": null,
            "padding": null,
            "right": null,
            "top": null,
            "visibility": null,
            "width": null
          }
        },
        "e454b93908854571ad0c3878a463801f": {
          "model_module": "@jupyter-widgets/controls",
          "model_name": "DescriptionStyleModel",
          "model_module_version": "1.5.0",
          "state": {
            "_model_module": "@jupyter-widgets/controls",
            "_model_module_version": "1.5.0",
            "_model_name": "DescriptionStyleModel",
            "_view_count": null,
            "_view_module": "@jupyter-widgets/base",
            "_view_module_version": "1.2.0",
            "_view_name": "StyleView",
            "description_width": ""
          }
        },
        "d84f7d5e1e5d4ad78ac0b00ac6e89252": {
          "model_module": "@jupyter-widgets/base",
          "model_name": "LayoutModel",
          "model_module_version": "1.2.0",
          "state": {
            "_model_module": "@jupyter-widgets/base",
            "_model_module_version": "1.2.0",
            "_model_name": "LayoutModel",
            "_view_count": null,
            "_view_module": "@jupyter-widgets/base",
            "_view_module_version": "1.2.0",
            "_view_name": "LayoutView",
            "align_content": null,
            "align_items": null,
            "align_self": null,
            "border": null,
            "bottom": null,
            "display": null,
            "flex": null,
            "flex_flow": null,
            "grid_area": null,
            "grid_auto_columns": null,
            "grid_auto_flow": null,
            "grid_auto_rows": null,
            "grid_column": null,
            "grid_gap": null,
            "grid_row": null,
            "grid_template_areas": null,
            "grid_template_columns": null,
            "grid_template_rows": null,
            "height": null,
            "justify_content": null,
            "justify_items": null,
            "left": null,
            "margin": null,
            "max_height": null,
            "max_width": null,
            "min_height": null,
            "min_width": null,
            "object_fit": null,
            "object_position": null,
            "order": null,
            "overflow": null,
            "overflow_x": null,
            "overflow_y": null,
            "padding": null,
            "right": null,
            "top": null,
            "visibility": null,
            "width": null
          }
        },
        "16b5d125ac1f4b56a305a286219179c6": {
          "model_module": "@jupyter-widgets/controls",
          "model_name": "ProgressStyleModel",
          "model_module_version": "1.5.0",
          "state": {
            "_model_module": "@jupyter-widgets/controls",
            "_model_module_version": "1.5.0",
            "_model_name": "ProgressStyleModel",
            "_view_count": null,
            "_view_module": "@jupyter-widgets/base",
            "_view_module_version": "1.2.0",
            "_view_name": "StyleView",
            "bar_color": null,
            "description_width": ""
          }
        },
        "95aba43c6610429e80af95d4a76c7f7e": {
          "model_module": "@jupyter-widgets/base",
          "model_name": "LayoutModel",
          "model_module_version": "1.2.0",
          "state": {
            "_model_module": "@jupyter-widgets/base",
            "_model_module_version": "1.2.0",
            "_model_name": "LayoutModel",
            "_view_count": null,
            "_view_module": "@jupyter-widgets/base",
            "_view_module_version": "1.2.0",
            "_view_name": "LayoutView",
            "align_content": null,
            "align_items": null,
            "align_self": null,
            "border": null,
            "bottom": null,
            "display": null,
            "flex": null,
            "flex_flow": null,
            "grid_area": null,
            "grid_auto_columns": null,
            "grid_auto_flow": null,
            "grid_auto_rows": null,
            "grid_column": null,
            "grid_gap": null,
            "grid_row": null,
            "grid_template_areas": null,
            "grid_template_columns": null,
            "grid_template_rows": null,
            "height": null,
            "justify_content": null,
            "justify_items": null,
            "left": null,
            "margin": null,
            "max_height": null,
            "max_width": null,
            "min_height": null,
            "min_width": null,
            "object_fit": null,
            "object_position": null,
            "order": null,
            "overflow": null,
            "overflow_x": null,
            "overflow_y": null,
            "padding": null,
            "right": null,
            "top": null,
            "visibility": null,
            "width": null
          }
        },
        "2473584dcd93424faf82778e2ddd192f": {
          "model_module": "@jupyter-widgets/controls",
          "model_name": "DescriptionStyleModel",
          "model_module_version": "1.5.0",
          "state": {
            "_model_module": "@jupyter-widgets/controls",
            "_model_module_version": "1.5.0",
            "_model_name": "DescriptionStyleModel",
            "_view_count": null,
            "_view_module": "@jupyter-widgets/base",
            "_view_module_version": "1.2.0",
            "_view_name": "StyleView",
            "description_width": ""
          }
        }
      }
    }
  },
  "nbformat": 4,
  "nbformat_minor": 0
}