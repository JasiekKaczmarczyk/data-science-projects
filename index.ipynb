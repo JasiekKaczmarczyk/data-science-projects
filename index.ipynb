{
 "cells": [
  {
   "cell_type": "markdown",
   "metadata": {},
   "source": [
    "# Data Science Projects\n",
    "By: [JasiekKaczmarczyk](https://github.com/JasiekKaczmarczyk)"
   ]
  },
  {
   "cell_type": "markdown",
   "metadata": {},
   "source": [
    "# Projects List:"
   ]
  },
  {
   "cell_type": "markdown",
   "metadata": {},
   "source": [
    "01. [Kaggle Survey 2021](kaggle-survey-2021/Code_Kaggle-Survey-2021.ipynb)\n",
    "02. [IMDB Films by Actor For 10k Actors](imdb-films-by-actor-for-10k-actors/Code_Imdb-Films-By-Actor.ipynb)\n",
    "03. [Cat Meow Classification](cat-meow-classification/Code_Cat-Meow_Classification.ipynb)"
   ]
  }
 ],
 "metadata": {
  "interpreter": {
   "hash": "af82dbbcdc95da8d40fbadbff2a7faca5959c85f9794244daf270ad457406078"
  },
  "kernelspec": {
   "display_name": "Python 3 (ipykernel)",
   "language": "python",
   "name": "python3"
  },
  "language_info": {
   "codemirror_mode": {
    "name": "ipython",
    "version": 3
   },
   "file_extension": ".py",
   "mimetype": "text/x-python",
   "name": "python",
   "nbconvert_exporter": "python",
   "pygments_lexer": "ipython3",
   "version": "3.9.7"
  }
 },
 "nbformat": 4,
 "nbformat_minor": 2
}
