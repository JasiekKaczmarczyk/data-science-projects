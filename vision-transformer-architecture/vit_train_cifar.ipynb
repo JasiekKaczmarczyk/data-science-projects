{
 "cells": [
  {
   "cell_type": "code",
   "execution_count": 12,
   "metadata": {},
   "outputs": [],
   "source": [
    "import tensorflow as tf\n",
    "import tensorflow.keras as keras\n",
    "import numpy as np\n",
    "from vit_model import VisionTransformer"
   ]
  },
  {
   "cell_type": "code",
   "execution_count": 2,
   "metadata": {},
   "outputs": [],
   "source": [
    "devices = tf.config.list_physical_devices('GPU')\n",
    "tf.config.experimental.set_memory_growth(devices[0], True)"
   ]
  },
  {
   "cell_type": "code",
   "execution_count": 5,
   "metadata": {},
   "outputs": [],
   "source": [
    "# loading mnist with reshaping and normalization\n",
    "def load_cifar():\n",
    "    \n",
    "    (X_train, y_train), (X_test, y_test) = keras.datasets.cifar100.load_data()\n",
    "\n",
    "    X_train = X_train.astype(\"float32\")/255\n",
    "    X_test = X_test.astype(\"float32\")/255\n",
    "\n",
    "    return X_train, y_train, X_test, y_test"
   ]
  },
  {
   "cell_type": "code",
   "execution_count": 7,
   "metadata": {},
   "outputs": [
    {
     "name": "stdout",
     "output_type": "stream",
     "text": [
      "Downloading data from https://www.cs.toronto.edu/~kriz/cifar-100-python.tar.gz\n",
      "169009152/169001437 [==============================] - 8s 0us/step\n",
      "169017344/169001437 [==============================] - 8s 0us/step\n"
     ]
    }
   ],
   "source": [
    "X_train, y_train, X_test, y_test = load_cifar()"
   ]
  },
  {
   "cell_type": "code",
   "execution_count": 10,
   "metadata": {},
   "outputs": [
    {
     "data": {
      "text/plain": [
       "(32, 32, 3)"
      ]
     },
     "execution_count": 10,
     "metadata": {},
     "output_type": "execute_result"
    }
   ],
   "source": [
    "input_shape=X_train.shape[1:]\n",
    "learning_rate = 0.001\n",
    "weight_decay = 0.0001\n",
    "batch_size = 256\n",
    "num_epochs = 100\n",
    "image_size = 72\n",
    "patch_size = 6\n",
    "projection_dim = 64\n",
    "num_attention_heads = 4\n",
    "num_transformer_layers = 8\n",
    "num_mlp_heads = [2048, 1024]\n",
    "output_classes = len(np.unique(y_train))"
   ]
  },
  {
   "cell_type": "code",
   "execution_count": null,
   "metadata": {},
   "outputs": [],
   "source": [
    "transformer = VisionTransformer(\n",
    "    input_shape=input_shape, \n",
    "    image_size=image_size, \n",
    "    patch_size=patch_size, \n",
    "    projection_dim=projection_dim, \n",
    "    num_transformer_layers=num_transformer_layers,\n",
    "    num_attention_heads=num_attention_heads,\n",
    "    num_mlp_heads=num_mlp_heads,\n",
    "    output_classes=output_classes\n",
    "    )"
   ]
  },
  {
   "cell_type": "code",
   "execution_count": null,
   "metadata": {},
   "outputs": [],
   "source": [
    "def train(model, X_train, y_train, batch_size, epochs, learning_rate, weight_decay):\n",
    "    model.summary()\n",
    "\n",
    "    model.compile(learning_rate=learning_rate, weight_decay=weight_decay)\n",
    "\n",
    "    model.fit(X_train, y_train, batch_size=batch_size, epochs=epochs)\n",
    "\n",
    "    return model"
   ]
  },
  {
   "cell_type": "code",
   "execution_count": null,
   "metadata": {},
   "outputs": [],
   "source": [
    "trained_transformer = train(transformer, X_train, y_train, batch_size, num_epochs, learning_rate, weight_decay)"
   ]
  },
  {
   "cell_type": "code",
   "execution_count": null,
   "metadata": {},
   "outputs": [],
   "source": [
    "trained_transformer.save(\"model\")"
   ]
  }
 ],
 "metadata": {
  "interpreter": {
   "hash": "24c76c77e871b2d90be91a54c684ef5b5eb418e35db9036884d3c29aabc9fe02"
  },
  "kernelspec": {
   "display_name": "Python 3.9.7 ('tf-gpu')",
   "language": "python",
   "name": "python3"
  },
  "language_info": {
   "codemirror_mode": {
    "name": "ipython",
    "version": 3
   },
   "file_extension": ".py",
   "mimetype": "text/x-python",
   "name": "python",
   "nbconvert_exporter": "python",
   "pygments_lexer": "ipython3",
   "version": "3.9.7"
  },
  "orig_nbformat": 4
 },
 "nbformat": 4,
 "nbformat_minor": 2
}
