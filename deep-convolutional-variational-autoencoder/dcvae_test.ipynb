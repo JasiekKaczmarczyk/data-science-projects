{
  "cells": [
    {
      "cell_type": "markdown",
      "metadata": {
        "id": "dB6_1qZDBhDo"
      },
      "source": [
        "# Deep Convolutional Variational Autoencoder Test"
      ]
    },
    {
      "cell_type": "markdown",
      "metadata": {
        "id": "76EpDogsBhDq"
      },
      "source": [
        "### Importing libraries"
      ]
    },
    {
      "cell_type": "code",
      "execution_count": 1,
      "metadata": {
        "id": "9nb4_sCpBhDs"
      },
      "outputs": [],
      "source": [
        "import tensorflow as tf\n",
        "import numpy as np\n",
        "import matplotlib.pyplot as plt\n",
        "from dcvae import DCVAE\n",
        "from tensorflow.keras.datasets import mnist"
      ]
    },
    {
      "cell_type": "markdown",
      "metadata": {
        "id": "DMriOmgABhDu"
      },
      "source": [
        "### Setting parameters"
      ]
    },
    {
      "cell_type": "code",
      "execution_count": 2,
      "metadata": {
        "id": "hRu8axGQBhDv"
      },
      "outputs": [],
      "source": [
        "LEARNING_RATE=0.0005\n",
        "BATCH_SIZE=32\n",
        "EPOCHS=100"
      ]
    },
    {
      "cell_type": "markdown",
      "metadata": {
        "id": "PJelGI5eBhDw"
      },
      "source": [
        "### Load MNIST"
      ]
    },
    {
      "cell_type": "code",
      "execution_count": 3,
      "metadata": {
        "id": "RCwl-ReeBhDw"
      },
      "outputs": [],
      "source": [
        "# loading mnist with reshaping and normalization\n",
        "def load_mnist():\n",
        "    \n",
        "    (X_train, y_train), (X_test, y_test) = mnist.load_data()\n",
        "\n",
        "    X_train = X_train.astype(\"float32\")/255\n",
        "    X_train = X_train.reshape(X_train.shape + (1,))\n",
        "\n",
        "    X_test = X_test.astype(\"float32\")/255\n",
        "    X_test = X_test.reshape(X_test.shape + (1,))\n",
        "\n",
        "    return X_train, y_train, X_test, y_test"
      ]
    },
    {
      "cell_type": "code",
      "execution_count": 4,
      "metadata": {
        "colab": {
          "base_uri": "https://localhost:8080/"
        },
        "id": "XSOJ2_ZKBhDx",
        "outputId": "ce8bf1cd-75b5-42e0-efae-41689c5468e7"
      },
      "outputs": [
        {
          "output_type": "stream",
          "name": "stdout",
          "text": [
            "Downloading data from https://storage.googleapis.com/tensorflow/tf-keras-datasets/mnist.npz\n",
            "11493376/11490434 [==============================] - 0s 0us/step\n",
            "11501568/11490434 [==============================] - 0s 0us/step\n"
          ]
        }
      ],
      "source": [
        "X_train, y_train, X_test, y_test = load_mnist()"
      ]
    },
    {
      "cell_type": "markdown",
      "metadata": {
        "id": "EKFet8I6BhDz"
      },
      "source": [
        "### Training function"
      ]
    },
    {
      "cell_type": "code",
      "execution_count": 7,
      "metadata": {
        "id": "yus4H1nKBhDz"
      },
      "outputs": [],
      "source": [
        "def train(X_train, learning_rate, batch_size, epochs):\n",
        "    dcvae=DCVAE(\n",
        "        input_shape=(28,28,1),\n",
        "        conv_filters=(32,64,64,64),\n",
        "        conv_kernels=(3,3,3,3),\n",
        "        conv_strides=(1,2,2,1),\n",
        "        latent_space_dim=2\n",
        "    )\n",
        "    dcvae.summary()\n",
        "    dcvae.compile(learning_rate)\n",
        "\n",
        "    dcvae.train(X_train, batch_size, epochs)\n",
        "\n",
        "    return dcvae"
      ]
    },
    {
      "cell_type": "code",
      "execution_count": 8,
      "metadata": {
        "colab": {
          "base_uri": "https://localhost:8080/"
        },
        "id": "VB-THlZQBhD1",
        "outputId": "8a46289c-9e03-412d-e5ab-7e06c6021126"
      },
      "outputs": [
        {
          "output_type": "stream",
          "name": "stdout",
          "text": [
            "Model: \"encoder\"\n",
            "__________________________________________________________________________________________________\n",
            " Layer (type)                   Output Shape         Param #     Connected to                     \n",
            "==================================================================================================\n",
            " encoder_input (InputLayer)     [(None, 28, 28, 1)]  0           []                               \n",
            "                                                                                                  \n",
            " encoder_conv_layer_0 (Conv2D)  (None, 28, 28, 32)   320         ['encoder_input[0][0]']          \n",
            "                                                                                                  \n",
            " encoder_relu_layer_0 (ReLU)    (None, 28, 28, 32)   0           ['encoder_conv_layer_0[0][0]']   \n",
            "                                                                                                  \n",
            " encoder_bn_layer_0 (BatchNorma  (None, 28, 28, 32)  128         ['encoder_relu_layer_0[0][0]']   \n",
            " lization)                                                                                        \n",
            "                                                                                                  \n",
            " encoder_conv_layer_1 (Conv2D)  (None, 14, 14, 64)   18496       ['encoder_bn_layer_0[0][0]']     \n",
            "                                                                                                  \n",
            " encoder_relu_layer_1 (ReLU)    (None, 14, 14, 64)   0           ['encoder_conv_layer_1[0][0]']   \n",
            "                                                                                                  \n",
            " encoder_bn_layer_1 (BatchNorma  (None, 14, 14, 64)  256         ['encoder_relu_layer_1[0][0]']   \n",
            " lization)                                                                                        \n",
            "                                                                                                  \n",
            " encoder_conv_layer_2 (Conv2D)  (None, 7, 7, 64)     36928       ['encoder_bn_layer_1[0][0]']     \n",
            "                                                                                                  \n",
            " encoder_relu_layer_2 (ReLU)    (None, 7, 7, 64)     0           ['encoder_conv_layer_2[0][0]']   \n",
            "                                                                                                  \n",
            " encoder_bn_layer_2 (BatchNorma  (None, 7, 7, 64)    256         ['encoder_relu_layer_2[0][0]']   \n",
            " lization)                                                                                        \n",
            "                                                                                                  \n",
            " encoder_conv_layer_3 (Conv2D)  (None, 7, 7, 64)     36928       ['encoder_bn_layer_2[0][0]']     \n",
            "                                                                                                  \n",
            " encoder_relu_layer_3 (ReLU)    (None, 7, 7, 64)     0           ['encoder_conv_layer_3[0][0]']   \n",
            "                                                                                                  \n",
            " encoder_bn_layer_3 (BatchNorma  (None, 7, 7, 64)    256         ['encoder_relu_layer_3[0][0]']   \n",
            " lization)                                                                                        \n",
            "                                                                                                  \n",
            " flatten_1 (Flatten)            (None, 3136)         0           ['encoder_bn_layer_3[0][0]']     \n",
            "                                                                                                  \n",
            " mu (Dense)                     (None, 2)            6274        ['flatten_1[0][0]']              \n",
            "                                                                                                  \n",
            " log_variance (Dense)           (None, 2)            6274        ['flatten_1[0][0]']              \n",
            "                                                                                                  \n",
            " encoder_output (Lambda)        (None, 2)            0           ['mu[0][0]',                     \n",
            "                                                                  'log_variance[0][0]']           \n",
            "                                                                                                  \n",
            "==================================================================================================\n",
            "Total params: 106,116\n",
            "Trainable params: 105,668\n",
            "Non-trainable params: 448\n",
            "__________________________________________________________________________________________________\n",
            "Model: \"decoder\"\n",
            "_________________________________________________________________\n",
            " Layer (type)                Output Shape              Param #   \n",
            "=================================================================\n",
            " decoder_input (InputLayer)  [(None, 2)]               0         \n",
            "                                                                 \n",
            " decoder_dense (Dense)       (None, 3136)              9408      \n",
            "                                                                 \n",
            " reshape (Reshape)           (None, 7, 7, 64)          0         \n",
            "                                                                 \n",
            " decoder_conv_transpose_laye  (None, 7, 7, 64)         36928     \n",
            " r_1 (Conv2DTranspose)                                           \n",
            "                                                                 \n",
            " decoder_relu_layer_1 (ReLU)  (None, 7, 7, 64)         0         \n",
            "                                                                 \n",
            " decoder_bn_layer_1 (BatchNo  (None, 7, 7, 64)         256       \n",
            " rmalization)                                                    \n",
            "                                                                 \n",
            " decoder_conv_transpose_laye  (None, 14, 14, 64)       36928     \n",
            " r_2 (Conv2DTranspose)                                           \n",
            "                                                                 \n",
            " decoder_relu_layer_2 (ReLU)  (None, 14, 14, 64)       0         \n",
            "                                                                 \n",
            " decoder_bn_layer_2 (BatchNo  (None, 14, 14, 64)       256       \n",
            " rmalization)                                                    \n",
            "                                                                 \n",
            " decoder_conv_transpose_laye  (None, 28, 28, 64)       36928     \n",
            " r_3 (Conv2DTranspose)                                           \n",
            "                                                                 \n",
            " decoder_relu_layer_3 (ReLU)  (None, 28, 28, 64)       0         \n",
            "                                                                 \n",
            " decoder_bn_layer_3 (BatchNo  (None, 28, 28, 64)       256       \n",
            " rmalization)                                                    \n",
            "                                                                 \n",
            " decoder_conv_transpose_laye  (None, 28, 28, 1)        577       \n",
            " r_4 (Conv2DTranspose)                                           \n",
            "                                                                 \n",
            " sigmoid_layer (Activation)  (None, 28, 28, 1)         0         \n",
            "                                                                 \n",
            "=================================================================\n",
            "Total params: 121,537\n",
            "Trainable params: 121,153\n",
            "Non-trainable params: 384\n",
            "_________________________________________________________________\n",
            "Model: \"autoencoder\"\n",
            "_________________________________________________________________\n",
            " Layer (type)                Output Shape              Param #   \n",
            "=================================================================\n",
            " encoder_input (InputLayer)  [(None, 28, 28, 1)]       0         \n",
            "                                                                 \n",
            " encoder (Functional)        (None, 2)                 106116    \n",
            "                                                                 \n",
            " decoder (Functional)        (None, 28, 28, 1)         121537    \n",
            "                                                                 \n",
            "=================================================================\n",
            "Total params: 227,653\n",
            "Trainable params: 226,821\n",
            "Non-trainable params: 832\n",
            "_________________________________________________________________\n",
            "Train on 10000 samples\n",
            "Epoch 1/100\n",
            "10000/10000 [==============================] - 15s 1ms/sample - loss: 80263.1373\n",
            "Epoch 2/100\n",
            "10000/10000 [==============================] - 13s 1ms/sample - loss: 59335.1331\n",
            "Epoch 3/100\n",
            "10000/10000 [==============================] - 13s 1ms/sample - loss: 55786.9372\n",
            "Epoch 4/100\n",
            "10000/10000 [==============================] - 13s 1ms/sample - loss: 51913.4669\n",
            "Epoch 5/100\n",
            "10000/10000 [==============================] - 13s 1ms/sample - loss: 50231.2342\n",
            "Epoch 6/100\n",
            "10000/10000 [==============================] - 13s 1ms/sample - loss: 48686.6683\n",
            "Epoch 7/100\n",
            "10000/10000 [==============================] - 13s 1ms/sample - loss: 47252.2363\n",
            "Epoch 8/100\n",
            "10000/10000 [==============================] - 13s 1ms/sample - loss: 46265.8100\n",
            "Epoch 9/100\n",
            "10000/10000 [==============================] - 13s 1ms/sample - loss: 45232.3642\n",
            "Epoch 10/100\n",
            "10000/10000 [==============================] - 13s 1ms/sample - loss: 44639.3381\n",
            "Epoch 11/100\n",
            "10000/10000 [==============================] - 13s 1ms/sample - loss: 44277.5124\n",
            "Epoch 12/100\n",
            "10000/10000 [==============================] - 13s 1ms/sample - loss: 43914.0153\n",
            "Epoch 13/100\n",
            "10000/10000 [==============================] - 13s 1ms/sample - loss: 43462.1448\n",
            "Epoch 14/100\n",
            "10000/10000 [==============================] - 12s 1ms/sample - loss: 42953.4603\n",
            "Epoch 15/100\n",
            "10000/10000 [==============================] - 13s 1ms/sample - loss: 46970.0725\n",
            "Epoch 16/100\n",
            "10000/10000 [==============================] - 13s 1ms/sample - loss: 43656.8953\n",
            "Epoch 17/100\n",
            "10000/10000 [==============================] - 13s 1ms/sample - loss: 42725.4420\n",
            "Epoch 18/100\n",
            "10000/10000 [==============================] - 13s 1ms/sample - loss: 42244.8532\n",
            "Epoch 19/100\n",
            "10000/10000 [==============================] - 13s 1ms/sample - loss: 41972.4495\n",
            "Epoch 20/100\n",
            "10000/10000 [==============================] - 13s 1ms/sample - loss: 41719.7174\n",
            "Epoch 21/100\n",
            "10000/10000 [==============================] - 12s 1ms/sample - loss: 41290.7097\n",
            "Epoch 22/100\n",
            "10000/10000 [==============================] - 12s 1ms/sample - loss: 41188.4591\n",
            "Epoch 23/100\n",
            "10000/10000 [==============================] - 13s 1ms/sample - loss: 40996.4304\n",
            "Epoch 24/100\n",
            "10000/10000 [==============================] - 13s 1ms/sample - loss: 40918.7990\n",
            "Epoch 25/100\n",
            "10000/10000 [==============================] - 13s 1ms/sample - loss: 40504.6493\n",
            "Epoch 26/100\n",
            "10000/10000 [==============================] - 12s 1ms/sample - loss: 40435.7735\n",
            "Epoch 27/100\n",
            "10000/10000 [==============================] - 13s 1ms/sample - loss: 40289.3387\n",
            "Epoch 28/100\n",
            "10000/10000 [==============================] - 13s 1ms/sample - loss: 40189.4016\n",
            "Epoch 29/100\n",
            "10000/10000 [==============================] - 13s 1ms/sample - loss: 40019.0802\n",
            "Epoch 30/100\n",
            "10000/10000 [==============================] - 13s 1ms/sample - loss: 39791.3574\n",
            "Epoch 31/100\n",
            "10000/10000 [==============================] - 13s 1ms/sample - loss: 39805.4276\n",
            "Epoch 32/100\n",
            "10000/10000 [==============================] - 13s 1ms/sample - loss: 39639.0453\n",
            "Epoch 33/100\n",
            "10000/10000 [==============================] - 13s 1ms/sample - loss: 39435.7781\n",
            "Epoch 34/100\n",
            "10000/10000 [==============================] - 13s 1ms/sample - loss: 39293.3343\n",
            "Epoch 35/100\n",
            "10000/10000 [==============================] - 13s 1ms/sample - loss: 39255.2553\n",
            "Epoch 36/100\n",
            "10000/10000 [==============================] - 13s 1ms/sample - loss: 39279.6063\n",
            "Epoch 37/100\n",
            "10000/10000 [==============================] - 13s 1ms/sample - loss: 38844.6524\n",
            "Epoch 38/100\n",
            "10000/10000 [==============================] - 13s 1ms/sample - loss: 38841.0981\n",
            "Epoch 39/100\n",
            "10000/10000 [==============================] - 13s 1ms/sample - loss: 38775.0074\n",
            "Epoch 40/100\n",
            "10000/10000 [==============================] - 13s 1ms/sample - loss: 38617.5758\n",
            "Epoch 41/100\n",
            "10000/10000 [==============================] - 13s 1ms/sample - loss: 38337.7948\n",
            "Epoch 42/100\n",
            "10000/10000 [==============================] - 13s 1ms/sample - loss: 38276.2155\n",
            "Epoch 43/100\n",
            "10000/10000 [==============================] - 13s 1ms/sample - loss: 38220.5341\n",
            "Epoch 44/100\n",
            "10000/10000 [==============================] - 13s 1ms/sample - loss: 38006.6446\n",
            "Epoch 45/100\n",
            "10000/10000 [==============================] - 13s 1ms/sample - loss: 38022.3475\n",
            "Epoch 46/100\n",
            "10000/10000 [==============================] - 13s 1ms/sample - loss: 37893.5396\n",
            "Epoch 47/100\n",
            "10000/10000 [==============================] - 12s 1ms/sample - loss: 37670.9364\n",
            "Epoch 48/100\n",
            "10000/10000 [==============================] - 12s 1ms/sample - loss: 37616.0129\n",
            "Epoch 49/100\n",
            "10000/10000 [==============================] - 13s 1ms/sample - loss: 37513.5010\n",
            "Epoch 50/100\n",
            "10000/10000 [==============================] - 13s 1ms/sample - loss: 37358.5618\n",
            "Epoch 51/100\n",
            "10000/10000 [==============================] - 13s 1ms/sample - loss: 37212.5087\n",
            "Epoch 52/100\n",
            "10000/10000 [==============================] - 13s 1ms/sample - loss: 37211.8319\n",
            "Epoch 53/100\n",
            "10000/10000 [==============================] - 12s 1ms/sample - loss: 37070.5012\n",
            "Epoch 54/100\n",
            "10000/10000 [==============================] - 13s 1ms/sample - loss: 36943.5825\n",
            "Epoch 55/100\n",
            "10000/10000 [==============================] - 12s 1ms/sample - loss: 36828.9577\n",
            "Epoch 56/100\n",
            "10000/10000 [==============================] - 13s 1ms/sample - loss: 36742.3826\n",
            "Epoch 57/100\n",
            "10000/10000 [==============================] - 13s 1ms/sample - loss: 36627.4272\n",
            "Epoch 58/100\n",
            "10000/10000 [==============================] - 13s 1ms/sample - loss: 36538.9892\n",
            "Epoch 59/100\n",
            "10000/10000 [==============================] - 13s 1ms/sample - loss: 36506.6158\n",
            "Epoch 60/100\n",
            "10000/10000 [==============================] - 13s 1ms/sample - loss: 36368.7761\n",
            "Epoch 61/100\n",
            "10000/10000 [==============================] - 13s 1ms/sample - loss: 36246.0786\n",
            "Epoch 62/100\n",
            "10000/10000 [==============================] - 13s 1ms/sample - loss: 36210.8501\n",
            "Epoch 63/100\n",
            "10000/10000 [==============================] - 13s 1ms/sample - loss: 36127.2133\n",
            "Epoch 64/100\n",
            "10000/10000 [==============================] - 13s 1ms/sample - loss: 36143.2942\n",
            "Epoch 65/100\n",
            "10000/10000 [==============================] - 13s 1ms/sample - loss: 36015.1622\n",
            "Epoch 66/100\n",
            "10000/10000 [==============================] - 13s 1ms/sample - loss: 35963.2293\n",
            "Epoch 67/100\n",
            "10000/10000 [==============================] - 13s 1ms/sample - loss: 35811.5828\n",
            "Epoch 68/100\n",
            "10000/10000 [==============================] - 13s 1ms/sample - loss: 35860.7993\n",
            "Epoch 69/100\n",
            "10000/10000 [==============================] - 13s 1ms/sample - loss: 35657.1747\n",
            "Epoch 70/100\n",
            "10000/10000 [==============================] - 13s 1ms/sample - loss: 35584.6087\n",
            "Epoch 71/100\n",
            "10000/10000 [==============================] - 13s 1ms/sample - loss: 35617.8551\n",
            "Epoch 72/100\n",
            "10000/10000 [==============================] - 13s 1ms/sample - loss: 35494.4801\n",
            "Epoch 73/100\n",
            "10000/10000 [==============================] - 13s 1ms/sample - loss: 35359.7418\n",
            "Epoch 74/100\n",
            "10000/10000 [==============================] - 15s 2ms/sample - loss: 35355.5616\n",
            "Epoch 75/100\n",
            "10000/10000 [==============================] - 13s 1ms/sample - loss: 35257.6180\n",
            "Epoch 76/100\n",
            "10000/10000 [==============================] - 13s 1ms/sample - loss: 35260.9380\n",
            "Epoch 77/100\n",
            "10000/10000 [==============================] - 13s 1ms/sample - loss: 35177.5077\n",
            "Epoch 78/100\n",
            "10000/10000 [==============================] - 13s 1ms/sample - loss: 35076.4253\n",
            "Epoch 79/100\n",
            "10000/10000 [==============================] - 13s 1ms/sample - loss: 35171.0026\n",
            "Epoch 80/100\n",
            "10000/10000 [==============================] - 13s 1ms/sample - loss: 35034.5720\n",
            "Epoch 81/100\n",
            "10000/10000 [==============================] - 13s 1ms/sample - loss: 34919.1004\n",
            "Epoch 82/100\n",
            "10000/10000 [==============================] - 13s 1ms/sample - loss: 34910.0410\n",
            "Epoch 83/100\n",
            "10000/10000 [==============================] - 13s 1ms/sample - loss: 34973.1867\n",
            "Epoch 84/100\n",
            "10000/10000 [==============================] - 13s 1ms/sample - loss: 34780.4951\n",
            "Epoch 85/100\n",
            "10000/10000 [==============================] - 13s 1ms/sample - loss: 34756.9658\n",
            "Epoch 86/100\n",
            "10000/10000 [==============================] - 13s 1ms/sample - loss: 34612.8845\n",
            "Epoch 87/100\n",
            "10000/10000 [==============================] - 12s 1ms/sample - loss: 34699.9127\n",
            "Epoch 88/100\n",
            "10000/10000 [==============================] - 12s 1ms/sample - loss: 34486.0936\n",
            "Epoch 89/100\n",
            "10000/10000 [==============================] - 13s 1ms/sample - loss: 34506.4595\n",
            "Epoch 90/100\n",
            "10000/10000 [==============================] - 12s 1ms/sample - loss: 34406.2731\n",
            "Epoch 91/100\n",
            "10000/10000 [==============================] - 12s 1ms/sample - loss: 34370.5301\n",
            "Epoch 92/100\n",
            "10000/10000 [==============================] - 13s 1ms/sample - loss: 34353.3495\n",
            "Epoch 93/100\n",
            "10000/10000 [==============================] - 13s 1ms/sample - loss: 34236.2904\n",
            "Epoch 94/100\n",
            "10000/10000 [==============================] - 13s 1ms/sample - loss: 34229.6142\n",
            "Epoch 95/100\n",
            "10000/10000 [==============================] - 13s 1ms/sample - loss: 34300.4296\n",
            "Epoch 96/100\n",
            "10000/10000 [==============================] - 13s 1ms/sample - loss: 34204.8326\n",
            "Epoch 97/100\n",
            "10000/10000 [==============================] - 13s 1ms/sample - loss: 34110.1729\n",
            "Epoch 98/100\n",
            "10000/10000 [==============================] - 13s 1ms/sample - loss: 34218.1855\n",
            "Epoch 99/100\n",
            "10000/10000 [==============================] - 13s 1ms/sample - loss: 34089.6204\n",
            "Epoch 100/100\n",
            "10000/10000 [==============================] - 13s 1ms/sample - loss: 33987.6986\n"
          ]
        }
      ],
      "source": [
        "vae=train(X_train[:10000], LEARNING_RATE, BATCH_SIZE, EPOCHS)"
      ]
    },
    {
      "cell_type": "code",
      "execution_count": 9,
      "metadata": {
        "id": "ABjKXX1uBhD2"
      },
      "outputs": [],
      "source": [
        "vae.save(save_folder=\"model\")"
      ]
    },
    {
      "cell_type": "code",
      "source": [
        ""
      ],
      "metadata": {
        "id": "BApB5F5kJI5d"
      },
      "execution_count": null,
      "outputs": []
    }
  ],
  "metadata": {
    "interpreter": {
      "hash": "af82dbbcdc95da8d40fbadbff2a7faca5959c85f9794244daf270ad457406078"
    },
    "kernelspec": {
      "display_name": "Python 3.9.7 ('data-science-env')",
      "language": "python",
      "name": "python3"
    },
    "language_info": {
      "codemirror_mode": {
        "name": "ipython",
        "version": 3
      },
      "file_extension": ".py",
      "mimetype": "text/x-python",
      "name": "python",
      "nbconvert_exporter": "python",
      "pygments_lexer": "ipython3",
      "version": "3.9.7"
    },
    "orig_nbformat": 4,
    "colab": {
      "name": "dcvae_test.ipynb",
      "provenance": []
    },
    "accelerator": "GPU"
  },
  "nbformat": 4,
  "nbformat_minor": 0
}