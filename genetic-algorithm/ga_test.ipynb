{
 "cells": [
  {
   "cell_type": "markdown",
   "metadata": {},
   "source": [
    "## GA Test"
   ]
  },
  {
   "cell_type": "code",
   "execution_count": 2,
   "metadata": {},
   "outputs": [],
   "source": [
    "from simple_ga import GeneticAlgorithm\n",
    "from collections import namedtuple\n",
    "from functools import partial"
   ]
  },
  {
   "cell_type": "markdown",
   "metadata": {},
   "source": [
    "#### Creating knapsack"
   ]
  },
  {
   "cell_type": "code",
   "execution_count": 3,
   "metadata": {},
   "outputs": [],
   "source": [
    "Thing=namedtuple('Thing', ['name', 'value', 'weight'])\n",
    "\n",
    "knapsack=[\n",
    "    Thing('thing1', 500, 2000),\n",
    "    Thing('thing2', 200, 400),\n",
    "    Thing('thing3', 150, 200),\n",
    "    Thing('thing4', 300, 600),\n",
    "    Thing('thing5', 250, 300),\n",
    "    Thing('thing6', 400, 1300),\n",
    "    Thing('thing7', 300, 600),\n",
    "    Thing('thing8', 250, 300),\n",
    "    Thing('thing9', 250, 300),\n",
    "    Thing('thing10', 400, 1300),\n",
    "    Thing('thing11', 300, 600),\n",
    "    Thing('thing12', 250, 300)\n",
    "]"
   ]
  },
  {
   "cell_type": "markdown",
   "metadata": {},
   "source": [
    "#### Fitness Function"
   ]
  },
  {
   "cell_type": "code",
   "execution_count": 4,
   "metadata": {},
   "outputs": [],
   "source": [
    "def fitness_function(pop, knapsack, weight_limit):\n",
    "    weight=0\n",
    "    value=0\n",
    "\n",
    "    for i, thing in enumerate(knapsack):\n",
    "        if pop[i] == 1:\n",
    "            weight+=thing.weight\n",
    "            value+=thing.value\n",
    "        \n",
    "            if weight>weight_limit:\n",
    "                return 0\n",
    "    \n",
    "    return value"
   ]
  },
  {
   "cell_type": "markdown",
   "metadata": {},
   "source": [
    "#### Evolution"
   ]
  },
  {
   "cell_type": "code",
   "execution_count": 6,
   "metadata": {},
   "outputs": [
    {
     "name": "stdout",
     "output_type": "stream",
     "text": [
      "Generation 0: best pop=[1, 0, 0, 0, 0, 0, 1, 0, 0, 0, 0, 0], value=800\n",
      "Generation 1: best pop=[0, 1, 0, 1, 1, 1, 0, 1, 1, 1, 0, 1], value=2300\n",
      "Generation 2: best pop=[0, 1, 0, 1, 1, 1, 0, 1, 1, 1, 0, 1], value=2300\n",
      "Generation 3: best pop=[0, 1, 0, 1, 1, 1, 0, 1, 1, 1, 0, 1], value=2300\n",
      "Generation 4: best pop=[0, 1, 0, 1, 1, 1, 1, 1, 1, 0, 1, 1], value=2500\n",
      "Generation 5: best pop=[0, 1, 0, 1, 1, 1, 1, 1, 1, 0, 1, 1], value=2500\n",
      "Generation 6: best pop=[0, 1, 0, 1, 1, 1, 1, 1, 1, 0, 1, 1], value=2500\n",
      "Generation 7: best pop=[0, 1, 0, 1, 1, 1, 1, 1, 1, 0, 1, 1], value=2500\n",
      "Generation 8: best pop=[0, 1, 1, 1, 1, 0, 1, 1, 1, 1, 1, 1], value=2650\n",
      "Generation 9: best pop=[0, 1, 1, 1, 1, 0, 1, 1, 1, 1, 1, 1], value=2650\n",
      "Generation 10: best pop=[0, 1, 1, 1, 1, 0, 1, 1, 1, 1, 1, 1], value=2650\n",
      "Generation 11: best pop=[0, 1, 1, 1, 1, 0, 1, 1, 1, 1, 1, 1], value=2650\n",
      "Generation 12: best pop=[0, 1, 1, 1, 1, 0, 1, 1, 1, 1, 1, 1], value=2650\n",
      "Generation 13: best pop=[0, 1, 1, 1, 1, 0, 1, 1, 1, 1, 1, 1], value=2650\n",
      "Generation 14: best pop=[0, 1, 1, 1, 1, 0, 1, 1, 1, 1, 1, 1], value=2650\n",
      "Generation 15: best pop=[0, 1, 1, 1, 1, 0, 1, 1, 1, 1, 1, 1], value=2650\n",
      "Generation 16: best pop=[0, 1, 1, 1, 1, 0, 1, 1, 1, 1, 1, 1], value=2650\n",
      "Generation 17: best pop=[0, 1, 1, 1, 1, 0, 1, 1, 1, 1, 1, 1], value=2650\n",
      "Generation 18: best pop=[0, 1, 1, 1, 1, 0, 1, 1, 1, 1, 1, 1], value=2650\n",
      "Generation 19: best pop=[0, 1, 1, 1, 1, 0, 1, 1, 1, 1, 1, 1], value=2650\n"
     ]
    }
   ],
   "source": [
    "ga=GeneticAlgorithm()\n",
    "best_pop, best_eval=ga.run_evolution(\n",
    "    fitness_function=partial(fitness_function, knapsack=knapsack, weight_limit=5000), \n",
    "    fitness_limit=4000, \n",
    "    n_iterations=20, \n",
    "    n_pops=100, \n",
    "    n_genes=len(knapsack), \n",
    "    mutation_chance=0.05\n",
    ")"
   ]
  },
  {
   "cell_type": "markdown",
   "metadata": {},
   "source": [
    "#### Checking what items have been selected"
   ]
  },
  {
   "cell_type": "code",
   "execution_count": 11,
   "metadata": {},
   "outputs": [
    {
     "data": {
      "text/plain": [
       "[Thing(name='thing2', value=200, weight=400),\n",
       " Thing(name='thing3', value=150, weight=200),\n",
       " Thing(name='thing4', value=300, weight=600),\n",
       " Thing(name='thing5', value=250, weight=300),\n",
       " Thing(name='thing7', value=300, weight=600),\n",
       " Thing(name='thing8', value=250, weight=300),\n",
       " Thing(name='thing9', value=250, weight=300),\n",
       " Thing(name='thing10', value=400, weight=1300),\n",
       " Thing(name='thing11', value=300, weight=600),\n",
       " Thing(name='thing12', value=250, weight=300)]"
      ]
     },
     "execution_count": 11,
     "metadata": {},
     "output_type": "execute_result"
    }
   ],
   "source": [
    "[knapsack[i] for i in range(len(knapsack)) if best_pop[i]==1]"
   ]
  },
  {
   "cell_type": "code",
   "execution_count": null,
   "metadata": {},
   "outputs": [],
   "source": []
  }
 ],
 "metadata": {
  "interpreter": {
   "hash": "af82dbbcdc95da8d40fbadbff2a7faca5959c85f9794244daf270ad457406078"
  },
  "kernelspec": {
   "display_name": "Python 3.9.7 ('data-science-env')",
   "language": "python",
   "name": "python3"
  },
  "language_info": {
   "codemirror_mode": {
    "name": "ipython",
    "version": 3
   },
   "file_extension": ".py",
   "mimetype": "text/x-python",
   "name": "python",
   "nbconvert_exporter": "python",
   "pygments_lexer": "ipython3",
   "version": "3.9.7"
  },
  "orig_nbformat": 4
 },
 "nbformat": 4,
 "nbformat_minor": 2
}
