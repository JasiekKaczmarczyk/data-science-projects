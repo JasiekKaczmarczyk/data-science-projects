{
 "cells": [
  {
   "cell_type": "code",
   "execution_count": 1,
   "metadata": {},
   "outputs": [],
   "source": [
    "import random\n",
    "import numpy as np\n",
    "from simple_evolution_strategies import EvolutionStrategy"
   ]
  },
  {
   "cell_type": "code",
   "execution_count": 2,
   "metadata": {},
   "outputs": [],
   "source": [
    "def fitness_function(x):\n",
    "    return x[0]**2+x[1]**2"
   ]
  },
  {
   "cell_type": "code",
   "execution_count": 3,
   "metadata": {},
   "outputs": [
    {
     "name": "stdout",
     "output_type": "stream",
     "text": [
      "Generation 0: best pop=[0.22697972 0.77223007], value=0.6478590697739489\n",
      "Generation 1: best pop=[0.98236407 0.97144839], value=1.908751137598029\n",
      "Generation 2: best pop=[2.58314825 0.67687132], value=7.130809686519725\n",
      "Generation 3: best pop=[2.58314825 0.67687132], value=7.130809686519725\n",
      "Generation 4: best pop=[2.58314825 0.67687132], value=7.130809686519725\n",
      "Generation 5: best pop=[2.58314825 0.67687132], value=7.130809686519725\n",
      "Generation 6: best pop=[2.58314825 0.67687132], value=7.130809686519725\n",
      "Generation 7: best pop=[2.58314825 0.67687132], value=7.130809686519725\n",
      "Generation 8: best pop=[2.58314825 0.67687132], value=7.130809686519725\n",
      "Generation 9: best pop=[2.58314825 0.67687132], value=7.130809686519725\n",
      "Generation 10: best pop=[2.58314825 0.67687132], value=7.130809686519725\n",
      "Generation 11: best pop=[2.58314825 0.67687132], value=7.130809686519725\n",
      "Generation 12: best pop=[2.58314825 0.67687132], value=7.130809686519725\n",
      "Generation 13: best pop=[2.58314825 0.67687132], value=7.130809686519725\n",
      "Generation 14: best pop=[2.58314825 0.67687132], value=7.130809686519725\n",
      "Generation 15: best pop=[2.58314825 0.67687132], value=7.130809686519725\n",
      "Generation 16: best pop=[2.58314825 0.67687132], value=7.130809686519725\n",
      "Generation 17: best pop=[2.58314825 0.67687132], value=7.130809686519725\n",
      "Generation 18: best pop=[2.58314825 0.67687132], value=7.130809686519725\n",
      "Generation 19: best pop=[2.58314825 0.67687132], value=7.130809686519725\n"
     ]
    }
   ],
   "source": [
    "es=EvolutionStrategy()\n",
    "best_pop, best_eval=es.run_evolution(\n",
    "    fitness_function,\n",
    "    fitness_limit=300, \n",
    "    n_iterations=20, \n",
    "    n_pops=100, \n",
    "    n_genes=2, \n",
    "    mutation_chance=0.05\n",
    ")"
   ]
  },
  {
   "cell_type": "code",
   "execution_count": null,
   "metadata": {},
   "outputs": [],
   "source": []
  }
 ],
 "metadata": {
  "interpreter": {
   "hash": "af82dbbcdc95da8d40fbadbff2a7faca5959c85f9794244daf270ad457406078"
  },
  "kernelspec": {
   "display_name": "Python 3.9.7 ('data-science-env')",
   "language": "python",
   "name": "python3"
  },
  "language_info": {
   "codemirror_mode": {
    "name": "ipython",
    "version": 3
   },
   "file_extension": ".py",
   "mimetype": "text/x-python",
   "name": "python",
   "nbconvert_exporter": "python",
   "pygments_lexer": "ipython3",
   "version": "3.9.7"
  },
  "orig_nbformat": 4
 },
 "nbformat": 4,
 "nbformat_minor": 2
}
