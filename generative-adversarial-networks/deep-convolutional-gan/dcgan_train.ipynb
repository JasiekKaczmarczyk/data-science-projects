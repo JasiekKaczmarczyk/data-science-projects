{
 "cells": [
  {
   "cell_type": "markdown",
   "metadata": {
    "pycharm": {
     "name": "#%% md\n"
    }
   },
   "source": [
    "# DCGAN Train"
   ]
  },
  {
   "cell_type": "markdown",
   "metadata": {
    "pycharm": {
     "name": "#%% md\n"
    }
   },
   "source": [
    "#### Libraries"
   ]
  },
  {
   "cell_type": "code",
   "execution_count": 16,
   "metadata": {
    "pycharm": {
     "name": "#%%\n"
    }
   },
   "outputs": [],
   "source": [
    "import torch\n",
    "import torch.nn as nn\n",
    "import torch.optim as optim\n",
    "import torchvision\n",
    "import torchvision.datasets as datasets\n",
    "import torchvision.transforms as transforms\n",
    "from torch.utils.data import DataLoader\n",
    "\n",
    "from dcgan import Discriminator, Generator, initialize_weights"
   ]
  },
  {
   "cell_type": "code",
   "execution_count": 17,
   "metadata": {
    "pycharm": {
     "name": "#%%\n"
    }
   },
   "outputs": [],
   "source": [
    "device = torch.device(\"cuda\" if torch.cuda.is_available() else \"cpu\")"
   ]
  },
  {
   "cell_type": "markdown",
   "metadata": {},
   "source": [
    "#### Hyperparameters"
   ]
  },
  {
   "cell_type": "code",
   "execution_count": 18,
   "metadata": {
    "pycharm": {
     "name": "#%%\n"
    }
   },
   "outputs": [],
   "source": [
    "learning_rate = 3e-4\n",
    "batch_size = 128\n",
    "image_size = 64\n",
    "img_channels = 1\n",
    "z_dim = 100\n",
    "epochs = 5\n",
    "discriminator_features = 64\n",
    "generator_features = 64"
   ]
  },
  {
   "cell_type": "markdown",
   "metadata": {},
   "source": [
    "#### Transforms"
   ]
  },
  {
   "cell_type": "code",
   "execution_count": 25,
   "metadata": {},
   "outputs": [],
   "source": [
    "transform = transforms.Compose(\n",
    "    [\n",
    "        transforms.Resize((image_size, image_size)),\n",
    "        transforms.ToTensor(),\n",
    "        transforms.Normalize([0.5 for _ in range(img_channels)], [0.5 for _ in range(img_channels)])\n",
    "    ]\n",
    ")"
   ]
  },
  {
   "cell_type": "markdown",
   "metadata": {},
   "source": [
    "#### Dataset"
   ]
  },
  {
   "cell_type": "code",
   "execution_count": 26,
   "metadata": {},
   "outputs": [],
   "source": [
    "dataset = datasets.FashionMNIST(root=\"dataset/\", train=True, transform=transform, download=True)"
   ]
  },
  {
   "cell_type": "code",
   "execution_count": 27,
   "metadata": {},
   "outputs": [],
   "source": [
    "loader = DataLoader(dataset, batch_size=batch_size, shuffle=True)"
   ]
  },
  {
   "cell_type": "markdown",
   "metadata": {},
   "source": [
    "#### Initializing generator and discriminator"
   ]
  },
  {
   "cell_type": "code",
   "execution_count": 22,
   "metadata": {},
   "outputs": [],
   "source": [
    "generator = Generator(z_dim, img_channels, generator_features).to(device)\n",
    "discriminator = Discriminator(img_channels, discriminator_features).to(device)\n",
    "\n",
    "initialize_weights(generator)\n",
    "initialize_weights(discriminator)"
   ]
  },
  {
   "cell_type": "markdown",
   "metadata": {},
   "source": [
    "#### Training loop"
   ]
  },
  {
   "cell_type": "code",
   "execution_count": 30,
   "metadata": {},
   "outputs": [],
   "source": [
    "def train(generator: nn.Module, discriminator: nn.Module, loader: DataLoader, batch_size: int, learning_rate: float, epochs: int, device: torch.device):\n",
    "    opt_generator = optim.Adam(generator.parameters(), lr=learning_rate, betas=(0.5, 0.999))\n",
    "    opt_discriminator = optim.Adam(discriminator.parameters(), lr=learning_rate, betas=(0.5, 0.999))\n",
    "\n",
    "    loss = nn.BCELoss()\n",
    "\n",
    "    generator.train()\n",
    "    discriminator.train()\n",
    "\n",
    "    for epoch in range(epochs):\n",
    "        for batch_idx, (real, _) in enumerate(loader):\n",
    "            real = real.to(device)\n",
    "            noise = torch.randn((batch_size, z_dim, 1, 1)).to(device)\n",
    "\n",
    "            fake = generator(noise)\n",
    "\n",
    "            # training discriminator\n",
    "            discriminator_real = discriminator(real).reshape(-1)\n",
    "            loss_discriminator_real = loss(discriminator_real, torch.ones_like(discriminator_real))\n",
    "\n",
    "            discriminator_fake = discriminator(fake).reshape(-1)\n",
    "            loss_discriminator_fake = loss(discriminator_fake, torch.zeros_like(discriminator_fake))\n",
    "\n",
    "            total_loss_discriminator = (loss_discriminator_real + loss_discriminator_fake) / 2\n",
    "\n",
    "            discriminator.zero_grad()\n",
    "            total_loss_discriminator.backward(retain_graph=True)\n",
    "            opt_discriminator.step()\n",
    "\n",
    "            # training generator\n",
    "            loss_generator = loss(discriminator_fake, torch.ones_like(discriminator_fake))\n",
    "            generator.zero_grad()\n",
    "            loss_generator.backward()\n",
    "            opt_generator.step()"
   ]
  },
  {
   "cell_type": "code",
   "execution_count": null,
   "metadata": {},
   "outputs": [],
   "source": [
    "train(generator, discriminator, loader, batch_size, learning_rate, epochs, device)"
   ]
  },
  {
   "cell_type": "code",
   "execution_count": null,
   "metadata": {},
   "outputs": [],
   "source": []
  }
 ],
 "metadata": {
  "interpreter": {
   "hash": "293d8ec2af927318b4bcafbc1915b70699548b10be33d20cca26149099642076"
  },
  "kernelspec": {
   "display_name": "Python 3.10.4 ('data-science-env')",
   "language": "python",
   "name": "python3"
  },
  "language_info": {
   "codemirror_mode": {
    "name": "ipython",
    "version": 3
   },
   "file_extension": ".py",
   "mimetype": "text/x-python",
   "name": "python",
   "nbconvert_exporter": "python",
   "pygments_lexer": "ipython3",
   "version": "3.10.4"
  },
  "orig_nbformat": 4
 },
 "nbformat": 4,
 "nbformat_minor": 2
}
