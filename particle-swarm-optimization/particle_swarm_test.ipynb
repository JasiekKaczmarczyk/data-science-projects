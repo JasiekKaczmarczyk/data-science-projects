{
 "cells": [
  {
   "cell_type": "markdown",
   "metadata": {},
   "source": [
    "## Particle Swarm Optimization Test"
   ]
  },
  {
   "cell_type": "code",
   "execution_count": 6,
   "metadata": {},
   "outputs": [],
   "source": [
    "from importlib import reload"
   ]
  },
  {
   "cell_type": "code",
   "execution_count": 53,
   "metadata": {},
   "outputs": [],
   "source": [
    "import numpy as np\n",
    "import matplotlib.pyplot as plt\n",
    "import pso"
   ]
  },
  {
   "cell_type": "code",
   "execution_count": 146,
   "metadata": {},
   "outputs": [
    {
     "data": {
      "text/plain": [
       "<module 'pso' from 'c:\\\\Users\\\\6trze\\\\Documents\\\\data-science-projects\\\\particle-swarm-optimization\\\\pso.py'>"
      ]
     },
     "execution_count": 146,
     "metadata": {},
     "output_type": "execute_result"
    }
   ],
   "source": [
    "reload(pso)"
   ]
  },
  {
   "cell_type": "code",
   "execution_count": 55,
   "metadata": {},
   "outputs": [],
   "source": [
    "def function_to_optimize(x):\n",
    "    # rosenbrock\n",
    "    return (1-x[0])**2 + 100*(x[1] - x[0]**2)**2"
   ]
  },
  {
   "cell_type": "code",
   "execution_count": 148,
   "metadata": {},
   "outputs": [
    {
     "name": "stdout",
     "output_type": "stream",
     "text": [
      "Generation 0: best pop=[ 10.0795522  -44.89814085], value=2146175.984953108\n",
      "Generation 1: best pop=[-0.63431518  3.86947221], value=1204.760642331875\n",
      "Generation 2: best pop=[-0.63431518  3.86947221], value=1204.760642331875\n",
      "Generation 3: best pop=[ 4.9468781  21.86474482], value=695.1487504970978\n",
      "Generation 4: best pop=[ 4.9468781  21.86474482], value=695.1487504970978\n",
      "Generation 5: best pop=[ 4.9468781  21.86474482], value=695.1487504970978\n",
      "Generation 6: best pop=[ 4.83734413 22.45667573], value=103.69207499086474\n",
      "Generation 7: best pop=[ 4.07430597 16.85196641], value=15.801618798518474\n",
      "Generation 8: best pop=[ 4.30386805 18.38441854], value=12.843799108567865\n",
      "Generation 9: best pop=[ 4.30386805 18.38441854], value=12.843799108567865\n",
      "Generation 10: best pop=[ 4.29610394 18.36079217], value=11.780473073455171\n",
      "Generation 11: best pop=[ 4.29610394 18.36079217], value=11.780473073455171\n",
      "Generation 12: best pop=[ 4.29610394 18.36079217], value=11.780473073455171\n",
      "Generation 13: best pop=[ 4.29643241 18.39543144], value=11.274788364842385\n",
      "Generation 14: best pop=[ 4.29643241 18.39543144], value=11.274788364842385\n",
      "Generation 15: best pop=[ 4.29643241 18.39543144], value=11.274788364842385\n",
      "Generation 16: best pop=[ 4.28457643 18.35600511], value=10.788695165281313\n",
      "Generation 17: best pop=[ 4.28457643 18.35600511], value=10.788695165281313\n",
      "Generation 18: best pop=[ 4.28457643 18.35600511], value=10.788695165281313\n",
      "Generation 19: best pop=[ 4.28457643 18.35600511], value=10.788695165281313\n",
      "Generation 20: best pop=[ 4.28457643 18.35600511], value=10.788695165281313\n",
      "Generation 21: best pop=[ 4.28429853 18.35375945], value=10.786828337260838\n",
      "Generation 22: best pop=[ 4.28429853 18.35375945], value=10.786828337260838\n",
      "Generation 23: best pop=[ 4.28429853 18.35375945], value=10.786828337260838\n",
      "Generation 24: best pop=[ 4.28429482 18.35524249], value=10.786592809067896\n",
      "Generation 25: best pop=[ 3.66917054 13.42129852], value=7.296811902724752\n",
      "Generation 26: best pop=[ 3.66917054 13.42129852], value=7.296811902724752\n",
      "Generation 27: best pop=[2.79826721 7.80517586], value=3.296883997960975\n",
      "Generation 28: best pop=[2.79826721 7.80517586], value=3.296883997960975\n",
      "Generation 29: best pop=[2.79826721 7.80517586], value=3.296883997960975\n",
      "Generation 30: best pop=[2.229903   4.85761118], value=2.8318557881161768\n",
      "Generation 31: best pop=[2.229903   4.85761118], value=2.8318557881161768\n",
      "Generation 32: best pop=[2.229903   4.85761118], value=2.8318557881161768\n",
      "Generation 33: best pop=[2.229903   4.85761118], value=2.8318557881161768\n",
      "Generation 34: best pop=[2.229903   4.85761118], value=2.8318557881161768\n",
      "Generation 35: best pop=[2.229903   4.85761118], value=2.8318557881161768\n",
      "Generation 36: best pop=[2.229903   4.85761118], value=2.8318557881161768\n",
      "Generation 37: best pop=[2.229903   4.85761118], value=2.8318557881161768\n",
      "Generation 38: best pop=[2.229903   4.85761118], value=2.8318557881161768\n",
      "Generation 39: best pop=[2.229903   4.85761118], value=2.8318557881161768\n",
      "Generation 40: best pop=[2.229903   4.85761118], value=2.8318557881161768\n",
      "Generation 41: best pop=[2.229903   4.85761118], value=2.8318557881161768\n",
      "Generation 42: best pop=[2.229903   4.85761118], value=2.8318557881161768\n",
      "Generation 43: best pop=[2.229903   4.85761118], value=2.8318557881161768\n",
      "Generation 44: best pop=[2.229903   4.85761118], value=2.8318557881161768\n",
      "Generation 45: best pop=[2.229903   4.85761118], value=2.8318557881161768\n",
      "Generation 46: best pop=[2.229903   4.85761118], value=2.8318557881161768\n",
      "Generation 47: best pop=[2.229903   4.85761118], value=2.8318557881161768\n",
      "Generation 48: best pop=[2.229903   4.85761118], value=2.8318557881161768\n",
      "Generation 49: best pop=[2.19792257 4.84536888], value=1.456058722843393\n",
      "Generation 50: best pop=[2.19792257 4.84536888], value=1.456058722843393\n",
      "Generation 51: best pop=[2.19792257 4.84536888], value=1.456058722843393\n",
      "Generation 52: best pop=[2.19792257 4.84536888], value=1.456058722843393\n",
      "Generation 53: best pop=[2.19792257 4.84536888], value=1.456058722843393\n",
      "Generation 54: best pop=[2.19792257 4.84536888], value=1.456058722843393\n",
      "Generation 55: best pop=[2.19792257 4.84536888], value=1.456058722843393\n",
      "Generation 56: best pop=[2.19707835 4.8122947 ], value=1.4550743508631387\n",
      "Generation 57: best pop=[2.19811823 4.84217143], value=1.4464026928734264\n",
      "Generation 58: best pop=[2.19811823 4.84217143], value=1.4464026928734264\n",
      "Generation 59: best pop=[2.19790397 4.8347248 ], value=1.4365285911332974\n",
      "Generation 60: best pop=[2.19790397 4.8347248 ], value=1.4365285911332974\n",
      "Generation 61: best pop=[2.19834835 4.8348356 ], value=1.4364798214985277\n",
      "Generation 62: best pop=[2.19818268 4.83468989], value=1.4363614758267849\n",
      "Generation 63: best pop=[2.19830745 4.83457701], value=1.4363493398330764\n",
      "Generation 64: best pop=[2.19830745 4.83457701], value=1.4363493398330764\n",
      "Generation 65: best pop=[2.19830745 4.83457701], value=1.4363493398330764\n",
      "Generation 66: best pop=[2.19830745 4.83457701], value=1.4363493398330764\n",
      "Generation 67: best pop=[2.19830745 4.83457701], value=1.4363493398330764\n",
      "Generation 68: best pop=[2.19828329 4.83451294], value=1.4363086552491602\n",
      "Generation 69: best pop=[2.19833352 4.8344061 ], value=1.4363045354969939\n",
      "Generation 70: best pop=[2.19833352 4.8344061 ], value=1.4363045354969939\n",
      "Generation 71: best pop=[2.19833352 4.8344061 ], value=1.4363045354969939\n",
      "Generation 72: best pop=[2.19833352 4.8344061 ], value=1.4363045354969939\n",
      "Generation 73: best pop=[1.20586052 1.53360546], value=0.6744968896858616\n",
      "Generation 74: best pop=[1.20586052 1.53360546], value=0.6744968896858616\n",
      "Generation 75: best pop=[1.20586052 1.53360546], value=0.6744968896858616\n",
      "Generation 76: best pop=[1.20586052 1.53360546], value=0.6744968896858616\n",
      "Generation 77: best pop=[0.98646927 1.03402981], value=0.3711638829684015\n",
      "Generation 78: best pop=[0.77813975 0.55567546], value=0.2974850521334598\n",
      "Generation 79: best pop=[0.77813975 0.55567546], value=0.2974850521334598\n",
      "Generation 80: best pop=[0.77813975 0.55567546], value=0.2974850521334598\n",
      "Generation 81: best pop=[0.77813975 0.55567546], value=0.2974850521334598\n",
      "Generation 82: best pop=[0.77813975 0.55567546], value=0.2974850521334598\n",
      "Generation 83: best pop=[0.77813975 0.55567546], value=0.2974850521334598\n",
      "Generation 84: best pop=[0.77813975 0.55567546], value=0.2974850521334598\n",
      "Generation 85: best pop=[0.77813975 0.55567546], value=0.2974850521334598\n",
      "Generation 86: best pop=[0.77813975 0.55567546], value=0.2974850521334598\n",
      "Generation 87: best pop=[0.77813975 0.55567546], value=0.2974850521334598\n",
      "Generation 88: best pop=[0.77813975 0.55567546], value=0.2974850521334598\n",
      "Generation 89: best pop=[0.77813975 0.55567546], value=0.2974850521334598\n",
      "Generation 90: best pop=[0.77813975 0.55567546], value=0.2974850521334598\n",
      "Generation 91: best pop=[0.77813975 0.55567546], value=0.2974850521334598\n",
      "Generation 92: best pop=[0.77813975 0.55567546], value=0.2974850521334598\n",
      "Generation 93: best pop=[0.77813975 0.55567546], value=0.2974850521334598\n",
      "Generation 94: best pop=[0.77813975 0.55567546], value=0.2974850521334598\n",
      "Generation 95: best pop=[0.95673286 0.9124946 ], value=0.002680411262593322\n",
      "Generation 96: best pop=[0.95673286 0.9124946 ], value=0.002680411262593322\n",
      "Generation 97: best pop=[0.95673286 0.9124946 ], value=0.002680411262593322\n",
      "Generation 98: best pop=[0.95673286 0.9124946 ], value=0.002680411262593322\n",
      "Generation 99: best pop=[0.95673286 0.9124946 ], value=0.002680411262593322\n",
      "Generation 100: best pop=[0.95673286 0.9124946 ], value=0.002680411262593322\n",
      "Generation 101: best pop=[0.95673286 0.9124946 ], value=0.002680411262593322\n",
      "Generation 102: best pop=[0.95673286 0.9124946 ], value=0.002680411262593322\n",
      "Generation 103: best pop=[0.95673286 0.9124946 ], value=0.002680411262593322\n",
      "Generation 104: best pop=[0.95673286 0.9124946 ], value=0.002680411262593322\n",
      "Generation 105: best pop=[0.95673286 0.9124946 ], value=0.002680411262593322\n",
      "Generation 106: best pop=[0.95673286 0.9124946 ], value=0.002680411262593322\n",
      "Generation 107: best pop=[0.95673286 0.9124946 ], value=0.002680411262593322\n",
      "Generation 108: best pop=[0.95673286 0.9124946 ], value=0.002680411262593322\n",
      "Generation 109: best pop=[0.95673286 0.9124946 ], value=0.002680411262593322\n",
      "Generation 110: best pop=[0.95673286 0.9124946 ], value=0.002680411262593322\n",
      "Generation 111: best pop=[0.95673286 0.9124946 ], value=0.002680411262593322\n",
      "Generation 112: best pop=[0.95673286 0.9124946 ], value=0.002680411262593322\n",
      "Generation 113: best pop=[0.95673286 0.9124946 ], value=0.002680411262593322\n",
      "Generation 114: best pop=[0.95673286 0.9124946 ], value=0.002680411262593322\n",
      "Generation 115: best pop=[0.95673286 0.9124946 ], value=0.002680411262593322\n",
      "Generation 116: best pop=[0.95673286 0.9124946 ], value=0.002680411262593322\n",
      "Generation 117: best pop=[0.95673286 0.9124946 ], value=0.002680411262593322\n",
      "Generation 118: best pop=[0.95673286 0.9124946 ], value=0.002680411262593322\n",
      "Generation 119: best pop=[0.95673286 0.9124946 ], value=0.002680411262593322\n",
      "Generation 120: best pop=[0.95673286 0.9124946 ], value=0.002680411262593322\n",
      "Generation 121: best pop=[0.95673286 0.9124946 ], value=0.002680411262593322\n",
      "Generation 122: best pop=[0.95673286 0.9124946 ], value=0.002680411262593322\n",
      "Generation 123: best pop=[0.95673286 0.9124946 ], value=0.002680411262593322\n",
      "Generation 124: best pop=[0.95673286 0.9124946 ], value=0.002680411262593322\n",
      "Generation 125: best pop=[0.95673286 0.9124946 ], value=0.002680411262593322\n",
      "Generation 126: best pop=[0.95673286 0.9124946 ], value=0.002680411262593322\n",
      "Generation 127: best pop=[0.95673286 0.9124946 ], value=0.002680411262593322\n",
      "Generation 128: best pop=[0.95673286 0.9124946 ], value=0.002680411262593322\n",
      "Generation 129: best pop=[0.95673286 0.9124946 ], value=0.002680411262593322\n",
      "Generation 130: best pop=[0.95673286 0.9124946 ], value=0.002680411262593322\n",
      "Generation 131: best pop=[0.95673286 0.9124946 ], value=0.002680411262593322\n",
      "Generation 132: best pop=[0.95673286 0.9124946 ], value=0.002680411262593322\n",
      "Generation 133: best pop=[0.95673286 0.9124946 ], value=0.002680411262593322\n",
      "Generation 134: best pop=[0.95673286 0.9124946 ], value=0.002680411262593322\n",
      "Generation 135: best pop=[0.95673286 0.9124946 ], value=0.002680411262593322\n",
      "Generation 136: best pop=[0.95673286 0.9124946 ], value=0.002680411262593322\n",
      "Generation 137: best pop=[0.98887047 0.97894825], value=0.00024125210369819414\n",
      "Generation 138: best pop=[0.98887047 0.97894825], value=0.00024125210369819414\n",
      "Generation 139: best pop=[0.98887047 0.97894825], value=0.00024125210369819414\n",
      "Generation 140: best pop=[0.98887047 0.97894825], value=0.00024125210369819414\n",
      "Generation 141: best pop=[0.98887047 0.97894825], value=0.00024125210369819414\n",
      "Generation 142: best pop=[0.98887047 0.97894825], value=0.00024125210369819414\n",
      "Generation 143: best pop=[0.98887047 0.97894825], value=0.00024125210369819414\n",
      "Generation 144: best pop=[0.98887047 0.97894825], value=0.00024125210369819414\n",
      "Generation 145: best pop=[0.98887047 0.97894825], value=0.00024125210369819414\n",
      "Generation 146: best pop=[0.98887047 0.97894825], value=0.00024125210369819414\n",
      "Generation 147: best pop=[0.98887047 0.97894825], value=0.00024125210369819414\n",
      "Generation 148: best pop=[0.98887047 0.97894825], value=0.00024125210369819414\n",
      "Generation 149: best pop=[0.98887047 0.97894825], value=0.00024125210369819414\n",
      "Generation 150: best pop=[0.99579448 0.99306486], value=0.00023032214440689593\n",
      "Generation 151: best pop=[0.99579448 0.99306486], value=0.00023032214440689593\n",
      "Generation 152: best pop=[0.99579448 0.99306486], value=0.00023032214440689593\n",
      "Generation 153: best pop=[0.99579448 0.99306486], value=0.00023032214440689593\n",
      "Generation 154: best pop=[0.99579448 0.99306486], value=0.00023032214440689593\n",
      "Generation 155: best pop=[0.9958084  0.99306358], value=0.00022183200857528505\n",
      "Generation 156: best pop=[0.9958084  0.99306358], value=0.00022183200857528505\n",
      "Generation 157: best pop=[0.9958084  0.99306358], value=0.00022183200857528505\n",
      "Generation 158: best pop=[0.9958084  0.99306358], value=0.00022183200857528505\n",
      "Generation 159: best pop=[0.9958084  0.99306358], value=0.00022183200857528505\n",
      "Generation 160: best pop=[0.9958084  0.99306358], value=0.00022183200857528505\n",
      "Generation 161: best pop=[0.99581534 0.99306398], value=0.00021795642201953086\n",
      "Generation 162: best pop=[0.99581769 0.99306433], value=0.00021671394621261352\n",
      "Generation 163: best pop=[0.99581769 0.99306433], value=0.00021671394621261352\n",
      "Generation 164: best pop=[1.0090739  1.01826139], value=8.243335148521768e-05\n",
      "Generation 165: best pop=[1.0090739  1.01826139], value=8.243335148521768e-05\n",
      "Generation 166: best pop=[1.0090739  1.01826139], value=8.243335148521768e-05\n",
      "Generation 167: best pop=[1.0090739  1.01826139], value=8.243335148521768e-05\n",
      "Generation 168: best pop=[1.0090739  1.01826139], value=8.243335148521768e-05\n",
      "Generation 169: best pop=[1.0090739  1.01826139], value=8.243335148521768e-05\n",
      "Generation 170: best pop=[1.0090739  1.01826139], value=8.243335148521768e-05\n",
      "Generation 171: best pop=[1.0090739  1.01826139], value=8.243335148521768e-05\n",
      "Generation 172: best pop=[1.0090739  1.01826139], value=8.243335148521768e-05\n",
      "Generation 173: best pop=[1.0090739  1.01826139], value=8.243335148521768e-05\n",
      "Generation 174: best pop=[1.0090739  1.01826139], value=8.243335148521768e-05\n",
      "Generation 175: best pop=[1.0090739  1.01826139], value=8.243335148521768e-05\n",
      "Generation 176: best pop=[1.0090739  1.01826139], value=8.243335148521768e-05\n",
      "Generation 177: best pop=[1.0090739  1.01826139], value=8.243335148521768e-05\n",
      "Generation 178: best pop=[1.0090739  1.01826139], value=8.243335148521768e-05\n",
      "Generation 179: best pop=[1.00907703 1.01824249], value=8.239612509283792e-05\n",
      "Generation 180: best pop=[1.00907703 1.01824249], value=8.239612509283792e-05\n",
      "Generation 181: best pop=[1.00907711 1.01823283], value=8.239538259603457e-05\n",
      "Generation 182: best pop=[1.00907711 1.01823283], value=8.239538259603457e-05\n",
      "Generation 183: best pop=[1.00907711 1.01823283], value=8.239538259603457e-05\n",
      "Generation 184: best pop=[1.00907696 1.01823974], value=8.239242701120895e-05\n",
      "Generation 185: best pop=[1.00907684 1.0182322 ], value=8.239056050763339e-05\n",
      "Generation 186: best pop=[1.00907684 1.0182322 ], value=8.239056050763339e-05\n",
      "Generation 187: best pop=[1.00907684 1.0182322 ], value=8.239056050763339e-05\n",
      "Generation 188: best pop=[1.00907684 1.0182322 ], value=8.239056050763339e-05\n",
      "Generation 189: best pop=[1.00907688 1.01823341], value=8.23905058278786e-05\n",
      "Generation 190: best pop=[1.00907688 1.01823341], value=8.23905058278786e-05\n",
      "Generation 191: best pop=[1.00907688 1.01823341], value=8.23905058278786e-05\n",
      "Generation 192: best pop=[1.00907688 1.01823341], value=8.23905058278786e-05\n",
      "Generation 193: best pop=[1.00907687 1.0182332 ], value=8.239040669180537e-05\n",
      "Generation 194: best pop=[1.00907687 1.0182332 ], value=8.239040669180537e-05\n",
      "Generation 195: best pop=[1.00907687 1.01823329], value=8.239027997554079e-05\n",
      "Generation 196: best pop=[1.00907687 1.01823329], value=8.239027997554079e-05\n",
      "Generation 197: best pop=[1.00907687 1.01823329], value=8.239027997554079e-05\n",
      "Generation 198: best pop=[1.00907687 1.01823329], value=8.239027997554079e-05\n",
      "Generation 199: best pop=[1.00907686 1.01823333], value=8.239024127587478e-05\n",
      "Generation 200: best pop=[1.00907686 1.01823333], value=8.239024127587478e-05\n",
      "Generation 201: best pop=[1.00907686 1.01823338], value=8.239022517691126e-05\n",
      "Generation 202: best pop=[1.00328441 1.00693967], value=2.3752073776949623e-05\n",
      "Generation 203: best pop=[1.00328441 1.00693967], value=2.3752073776949623e-05\n",
      "Generation 204: best pop=[1.00328441 1.00693967], value=2.3752073776949623e-05\n",
      "Generation 205: best pop=[1.00328441 1.00693967], value=2.3752073776949623e-05\n",
      "Generation 206: best pop=[1.00328441 1.00693967], value=2.3752073776949623e-05\n",
      "Generation 207: best pop=[1.00328441 1.00693967], value=2.3752073776949623e-05\n",
      "Generation 208: best pop=[1.00328441 1.00693967], value=2.3752073776949623e-05\n",
      "Generation 209: best pop=[1.00328441 1.00693967], value=2.3752073776949623e-05\n",
      "Generation 210: best pop=[1.00328441 1.00693967], value=2.3752073776949623e-05\n",
      "Generation 211: best pop=[1.00328441 1.00693967], value=2.3752073776949623e-05\n",
      "Generation 212: best pop=[1.00328441 1.00693967], value=2.3752073776949623e-05\n",
      "Generation 213: best pop=[1.00328441 1.00693967], value=2.3752073776949623e-05\n",
      "Generation 214: best pop=[1.00328441 1.00693967], value=2.3752073776949623e-05\n",
      "Generation 215: best pop=[1.00328441 1.00693967], value=2.3752073776949623e-05\n",
      "Generation 216: best pop=[1.00328441 1.00693967], value=2.3752073776949623e-05\n",
      "Generation 217: best pop=[1.00328441 1.00693967], value=2.3752073776949623e-05\n",
      "Generation 218: best pop=[1.00328441 1.00693967], value=2.3752073776949623e-05\n",
      "Generation 219: best pop=[1.00328441 1.00693967], value=2.3752073776949623e-05\n",
      "Generation 220: best pop=[1.00328441 1.00693967], value=2.3752073776949623e-05\n",
      "Generation 221: best pop=[1.00328441 1.00693967], value=2.3752073776949623e-05\n",
      "Generation 222: best pop=[1.00328441 1.00693967], value=2.3752073776949623e-05\n",
      "Generation 223: best pop=[1.00328441 1.00693967], value=2.3752073776949623e-05\n",
      "Generation 224: best pop=[1.00328441 1.00693967], value=2.3752073776949623e-05\n",
      "Generation 225: best pop=[1.00328441 1.00693967], value=2.3752073776949623e-05\n",
      "Generation 226: best pop=[1.00328441 1.00693967], value=2.3752073776949623e-05\n",
      "Generation 227: best pop=[1.00328441 1.00693967], value=2.3752073776949623e-05\n",
      "Generation 228: best pop=[1.00328441 1.00693967], value=2.3752073776949623e-05\n",
      "Generation 229: best pop=[1.00328441 1.00693967], value=2.3752073776949623e-05\n",
      "Generation 230: best pop=[1.00328441 1.00693967], value=2.3752073776949623e-05\n",
      "Generation 231: best pop=[1.00328441 1.00693967], value=2.3752073776949623e-05\n",
      "Generation 232: best pop=[1.00328441 1.00693967], value=2.3752073776949623e-05\n",
      "Generation 233: best pop=[1.00328441 1.00693967], value=2.3752073776949623e-05\n",
      "Generation 234: best pop=[1.00328441 1.00693967], value=2.3752073776949623e-05\n",
      "Generation 235: best pop=[1.00328441 1.00693967], value=2.3752073776949623e-05\n",
      "Generation 236: best pop=[1.00328441 1.00693967], value=2.3752073776949623e-05\n",
      "Generation 237: best pop=[1.00328441 1.00693967], value=2.3752073776949623e-05\n",
      "Generation 238: best pop=[1.00328441 1.00693967], value=2.3752073776949623e-05\n",
      "Generation 239: best pop=[1.00328441 1.00693967], value=2.3752073776949623e-05\n",
      "Generation 240: best pop=[1.00328441 1.00693967], value=2.3752073776949623e-05\n",
      "Generation 241: best pop=[1.00098835 1.0016266 ], value=1.3301948876269152e-05\n",
      "Generation 242: best pop=[1.00098835 1.0016266 ], value=1.3301948876269152e-05\n",
      "Generation 243: best pop=[1.00098835 1.0016266 ], value=1.3301948876269152e-05\n",
      "Generation 244: best pop=[1.00098835 1.0016266 ], value=1.3301948876269152e-05\n",
      "Generation 245: best pop=[1.00098835 1.0016266 ], value=1.3301948876269152e-05\n",
      "Generation 246: best pop=[1.00098835 1.0016266 ], value=1.3301948876269152e-05\n",
      "Generation 247: best pop=[1.00056104 1.00101364], value=1.4973662058502868e-06\n",
      "Generation 248: best pop=[1.00056104 1.00101364], value=1.4973662058502868e-06\n",
      "Generation 249: best pop=[1.00056104 1.00101364], value=1.4973662058502868e-06\n",
      "Generation 250: best pop=[1.0003284  1.00060782], value=3.4891355458611514e-07\n",
      "Generation 251: best pop=[1.0003284  1.00060782], value=3.4891355458611514e-07\n",
      "Generation 252: best pop=[1.0003284  1.00060782], value=3.4891355458611514e-07\n",
      "Generation 253: best pop=[1.00033256 1.00067903], value=1.2962946963580893e-07\n",
      "Generation 254: best pop=[1.00033256 1.00067903], value=1.2962946963580893e-07\n",
      "Generation 255: best pop=[1.00033256 1.00067903], value=1.2962946963580893e-07\n",
      "Generation 256: best pop=[1.00033256 1.00067903], value=1.2962946963580893e-07\n",
      "Generation 257: best pop=[1.0003386  1.00068101], value=1.1601338583271244e-07\n",
      "Generation 258: best pop=[1.0003386  1.00068101], value=1.1601338583271244e-07\n",
      "Generation 259: best pop=[1.00022466 1.00045047], value=5.059235298887803e-08\n",
      "Generation 260: best pop=[1.00022466 1.00045047], value=5.059235298887803e-08\n",
      "Generation 261: best pop=[1.00022466 1.00045047], value=5.059235298887803e-08\n",
      "Generation 262: best pop=[1.00022466 1.00045047], value=5.059235298887803e-08\n",
      "Generation 263: best pop=[1.00022466 1.00045047], value=5.059235298887803e-08\n",
      "Generation 264: best pop=[1.00022466 1.00045047], value=5.059235298887803e-08\n",
      "Generation 265: best pop=[1.00022466 1.00045047], value=5.059235298887803e-08\n",
      "Generation 266: best pop=[1.00022466 1.00045047], value=5.059235298887803e-08\n",
      "Generation 267: best pop=[1.00022466 1.00045047], value=5.059235298887803e-08\n",
      "Generation 268: best pop=[1.00022466 1.00045047], value=5.059235298887803e-08\n",
      "Generation 269: best pop=[1.00022466 1.00045047], value=5.059235298887803e-08\n",
      "Generation 270: best pop=[1.00022466 1.00045047], value=5.059235298887803e-08\n",
      "Generation 271: best pop=[1.00021365 1.00042586], value=4.586762262285636e-08\n",
      "Generation 272: best pop=[1.00021365 1.00042586], value=4.586762262285636e-08\n",
      "Generation 273: best pop=[1.00018641 1.00038018], value=4.0124577392741515e-08\n",
      "Generation 274: best pop=[1.00018641 1.00038018], value=4.0124577392741515e-08\n",
      "Generation 275: best pop=[1.00019023 1.00038108], value=3.622165844512347e-08\n",
      "Generation 276: best pop=[1.00019023 1.00038108], value=3.622165844512347e-08\n",
      "Generation 277: best pop=[1.00019023 1.00038108], value=3.622165844512347e-08\n",
      "Generation 278: best pop=[1.00019023 1.00038108], value=3.622165844512347e-08\n",
      "Generation 279: best pop=[1.00019023 1.00038108], value=3.622165844512347e-08\n",
      "Generation 280: best pop=[1.00019023 1.00038108], value=3.622165844512347e-08\n",
      "Generation 281: best pop=[1.00019023 1.00038073], value=3.6194222699187354e-08\n",
      "Generation 282: best pop=[1.00019022 1.00038061], value=3.618644258739351e-08\n",
      "Generation 283: best pop=[1.00019022 1.00038061], value=3.618644258739351e-08\n",
      "Generation 284: best pop=[1.00019021 1.00038068], value=3.618599636504501e-08\n",
      "Generation 285: best pop=[1.00019021 1.00038064], value=3.618230069998941e-08\n",
      "Generation 286: best pop=[1.0001902  1.00038066], value=3.618094807217779e-08\n",
      "Generation 287: best pop=[1.0001902  1.00038066], value=3.618094807217779e-08\n",
      "Generation 288: best pop=[1.0001902  1.00038066], value=3.618094807217779e-08\n",
      "Generation 289: best pop=[1.0001902  1.00038066], value=3.618094807217779e-08\n",
      "Generation 290: best pop=[1.0001902  1.00038066], value=3.6180565742672984e-08\n",
      "Generation 291: best pop=[1.00019019 1.00038063], value=3.6178184042655276e-08\n",
      "Generation 292: best pop=[1.00019019 1.00038063], value=3.6178184042655276e-08\n",
      "Generation 293: best pop=[1.00019019 1.00038063], value=3.6178184042655276e-08\n",
      "Generation 294: best pop=[1.00019019 1.00038063], value=3.617808091051058e-08\n",
      "Generation 295: best pop=[1.00019019 1.00038063], value=3.617808091051058e-08\n",
      "Generation 296: best pop=[1.00019019 1.00038063], value=3.617796370287786e-08\n",
      "Generation 297: best pop=[1.00019019 1.00038063], value=3.617796370287786e-08\n",
      "Generation 298: best pop=[1.00019019 1.00038061], value=3.617701366661154e-08\n",
      "Generation 299: best pop=[1.00019019 1.0003806 ], value=3.6176781683697394e-08\n"
     ]
    }
   ],
   "source": [
    "search_area=np.array([[-100, 100], [-100, 100]])\n",
    "\n",
    "ps=pso.ParticleSwarm(search_area=search_area, update_function=\"bare_bones\")\n",
    "\n",
    "best_pop, best_eval=ps.optimize(function_to_optimize, n_iterations=300)"
   ]
  },
  {
   "cell_type": "code",
   "execution_count": 47,
   "metadata": {},
   "outputs": [],
   "source": [
    "h=ps.get_history()"
   ]
  },
  {
   "cell_type": "code",
   "execution_count": 129,
   "metadata": {},
   "outputs": [],
   "source": [
    "x=np.arange(-100,100,0.5)\n",
    "y=np.arange(-100,100,0.5)"
   ]
  },
  {
   "cell_type": "code",
   "execution_count": 130,
   "metadata": {},
   "outputs": [],
   "source": [
    "combinations = np.array(np.meshgrid(x, y)).T.reshape(-1,2)"
   ]
  },
  {
   "cell_type": "code",
   "execution_count": 131,
   "metadata": {},
   "outputs": [
    {
     "data": {
      "text/plain": [
       "array([[-100. , -100. ],\n",
       "       [-100. ,  -99.5],\n",
       "       [-100. ,  -99. ],\n",
       "       ...,\n",
       "       [  99.5,   98.5],\n",
       "       [  99.5,   99. ],\n",
       "       [  99.5,   99.5]])"
      ]
     },
     "execution_count": 131,
     "metadata": {},
     "output_type": "execute_result"
    }
   ],
   "source": [
    "combinations"
   ]
  },
  {
   "cell_type": "code",
   "execution_count": 132,
   "metadata": {},
   "outputs": [],
   "source": [
    "z=np.apply_along_axis(function_to_optimize, 1, combinations)"
   ]
  },
  {
   "cell_type": "code",
   "execution_count": 133,
   "metadata": {},
   "outputs": [],
   "source": [
    "zz=z.reshape(-1, len(x)).T"
   ]
  },
  {
   "cell_type": "code",
   "execution_count": 136,
   "metadata": {},
   "outputs": [
    {
     "data": {
      "text/plain": [
       "<matplotlib.collections.PathCollection at 0x1e2cdf15fa0>"
      ]
     },
     "execution_count": 136,
     "metadata": {},
     "output_type": "execute_result"
    },
    {
     "data": {
      "image/png": "[encoded data removed]",
      "text/plain": [
       "<Figure size 720x720 with 1 Axes>"
      ]
     },
     "metadata": {
      "needs_background": "light"
     },
     "output_type": "display_data"
    }
   ],
   "source": [
    "plt.figure(figsize=(10, 10))\n",
    "plt.contourf(x, y, zz, 50, cmap=\"rainbow\")\n",
    "\n",
    "plt.plot(h[:,0], h[:,1], c='r')\n",
    "plt.scatter(h[:,0], h[:,1], c='black')"
   ]
  },
  {
   "cell_type": "code",
   "execution_count": null,
   "metadata": {},
   "outputs": [],
   "source": []
  }
 ],
 "metadata": {
  "interpreter": {
   "hash": "af82dbbcdc95da8d40fbadbff2a7faca5959c85f9794244daf270ad457406078"
  },
  "kernelspec": {
   "display_name": "Python 3.9.7 ('data-science-env')",
   "language": "python",
   "name": "python3"
  },
  "language_info": {
   "codemirror_mode": {
    "name": "ipython",
    "version": 3
   },
   "file_extension": ".py",
   "mimetype": "text/x-python",
   "name": "python",
   "nbconvert_exporter": "python",
   "pygments_lexer": "ipython3",
   "version": "3.9.7"
  },
  "orig_nbformat": 4
 },
 "nbformat": 4,
 "nbformat_minor": 2
}
